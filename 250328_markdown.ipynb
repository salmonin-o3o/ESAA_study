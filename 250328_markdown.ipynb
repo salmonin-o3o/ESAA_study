{
  "nbformat": 4,
  "nbformat_minor": 0,
  "metadata": {
    "colab": {
      "provenance": [],
      "authorship_tag": "ABX9TyOBAXgy2kKVgkPMM4QAfYge",
      "include_colab_link": true
    },
    "kernelspec": {
      "name": "python3",
      "display_name": "Python 3"
    },
    "language_info": {
      "name": "python"
    }
  },
  "cells": [
    {
      "cell_type": "markdown",
      "metadata": {
        "id": "view-in-github",
        "colab_type": "text"
      },
      "source": [
        "<a href=\"https://colab.research.google.com/github/salmonin-o3o/ESAA_study/blob/main/250328_markdown.ipynb\" target=\"_parent\"><img src=\"https://colab.research.google.com/assets/colab-badge.svg\" alt=\"Open In Colab\"/></a>"
      ]
    },
    {
      "cell_type": "markdown",
      "source": [
        "파이썬 머신러닝 완벽 가이드\n",
        "# CH 08. 텍스트 분석\n",
        "**NLP이냐 텍스트 분석이냐?**\n",
        "\n",
        "NLP(National Language Processing)는 머신이 인간의 언어를 이해하고 해석하는 데 더 중점을 두고 기술이 발전해 왔으며, 텍스트 분석(Text Analytics) 또는 텍스트 마이닝이라고 불리는 것은 비정형 텍스트에서 의미 있는 정보를 추출하는 것에 좀 더 중점을 두고 기술이 발전했다.\n",
        "\n",
        "NLP는 텍스트 분석을 향상하게 하는 기반 기술이라고 볼 수도 있으며, NLP와 텍스트 분석의 발전 근간에는 머신러닝이 존재한다.\n",
        "\n",
        "텍스트 분석은 텍스트 분류, 감성 분석, 텍스트 요약, 텍스트 군집화와 같은 기술 영역에 집중해 발전했다.\n",
        "\n",
        "## 01. 텍스트 분석 이해\n",
        "텍스트 분석은 비정형 데이터인 텍스트를 분석하는 것이다. 텍스트를 머신러닝에 적용하기 위해서는 비정형 텍스트 데이터를 어떻게 피처 형태로 추출하고 추출된 피처에 의미 있는 값을 부여하는가 하는 것이 매우 중요한 요소이다. 텍스트를 벡터값을 가지는 피처를 변환해야한다. 그 방법으로는 BOW와 Word2Vec 방법이 있다.\n",
        "\n",
        "**텍스트 분석 수행 프로세스**\n",
        "1. 텍스트 사전 준비작업\n",
        "2. 피처 벡터화/추출\n",
        "3. ML 모델 수립 및 학습/예측/평가\n",
        "\n",
        "**파이썬 기반의 NLP, 텍스트 분석 패키지**\n",
        "- NLTK\n",
        "- Gensim\n",
        "- SpaCy\n",
        "\n",
        "사이킷런은 NLP 패키지에 특화된 라이브러리는 가지고 있지 않다. 일정 수준까지는 가능하다. 하지만 더 다양한 텍스트 분석이 적용돼야 하는 경우에는 NLP 전용 패키지를 함께 결합하자.\n",
        "\n",
        "## 02. 텍스트 사전 준비 작업(텍스트 전처리) - 텍스트 정규화\n",
        "텍스트 정규화는 텍스트를 클렌징, 정제, 토큰화, 어근화 등의 다양한 텍스트 데이터의 사전 작업을 수행하는 것을 의미한다.\n",
        "\n",
        "**클렌징**\n",
        "\n",
        "텍스트에서 분석에 오히려 방해가 되는 불필요한 문자, 기호 등을 사전에 제거하는 작업.\n",
        "\n",
        "**토큰화**\n",
        "\n",
        "문장 토큰화: 문장의 마침표(.), 개행문자(\\n) 등 문장의 마지막을 뜻하는 기호에 따라 분리하는 것이 일반적이다. 정규 표현식에 따른 문장 토큰화도 가능하다. NTLK에서 일반적으로 많이 쓰이는 sent_tokenize를 이용해 토큰화를 수행해보자.\n",
        "\n",
        "(참조가 필요한 데이터 세트의 경우 인터넷으로 다운로드 받을 수 있다. ntlk.download('punkt')는 마침표, 개행 문자 등의 데이터 세트를 다운로드한다.)"
      ],
      "metadata": {
        "id": "kBafozvxWal2"
      }
    },
    {
      "cell_type": "code",
      "source": [
        "from nltk import sent_tokenize\n",
        "import nltk"
      ],
      "metadata": {
        "id": "qonoCeKrGMJx"
      },
      "execution_count": 1,
      "outputs": []
    },
    {
      "cell_type": "code",
      "source": [
        "nltk.download('punkt')\n",
        "nltk.download('punkt_tab')"
      ],
      "metadata": {
        "colab": {
          "base_uri": "https://localhost:8080/"
        },
        "id": "yewierzdGPAl",
        "outputId": "1b5a5ff1-68b7-4317-847f-2cb8c6183d43"
      },
      "execution_count": 2,
      "outputs": [
        {
          "output_type": "stream",
          "name": "stderr",
          "text": [
            "[nltk_data] Downloading package punkt to /root/nltk_data...\n",
            "[nltk_data]   Package punkt is already up-to-date!\n",
            "[nltk_data] Downloading package punkt_tab to /root/nltk_data...\n",
            "[nltk_data]   Unzipping tokenizers/punkt_tab.zip.\n"
          ]
        },
        {
          "output_type": "execute_result",
          "data": {
            "text/plain": [
              "True"
            ]
          },
          "metadata": {},
          "execution_count": 2
        }
      ]
    },
    {
      "cell_type": "code",
      "source": [
        "text_sample = 'The Matrix is everywhere its all around us, here even in this room. \\\n",
        "               You can see it out your window or on your television. \\\n",
        "               You feel it when you go to work, or go to church or pay your taxes.'\n",
        "sentences = sent_tokenize(text=text_sample)\n",
        "print(type(sentences), len(sentences))\n",
        "print(sentences) # sent_tokenize()가 반환하는 것은 각각의 문장으로 구성된 list 객체"
      ],
      "metadata": {
        "colab": {
          "base_uri": "https://localhost:8080/"
        },
        "id": "LneYVTWeFYFi",
        "outputId": "9a59079b-d907-4d90-c2ff-4a87115300cf"
      },
      "execution_count": 4,
      "outputs": [
        {
          "output_type": "stream",
          "name": "stdout",
          "text": [
            "<class 'list'> 3\n",
            "['The Matrix is everywhere its all around us, here even in this room.', 'You can see it out your window or on your television.', 'You feel it when you go to work, or go to church or pay your taxes.']\n"
          ]
        }
      ]
    },
    {
      "cell_type": "markdown",
      "source": [
        "단어 토큰화: 기본적으로 공백, 콤마(,), 마침표(.), 개행문자 등으로 단어를 분리한다. 이것도 마찬가지로 정규 표현식을 이용해 다양한 유형으로 토큰화를 수행할 수 있다.\n",
        "\n",
        "BOW와 같이 단어의 순서가 중요하지 않은 경우 문장 토큰화를 사용하지 않고 단어 토큰화만 사용해도 충분하다.\n"
      ],
      "metadata": {
        "id": "2_T9eAd9ElRS"
      }
    },
    {
      "cell_type": "code",
      "source": [
        "from nltk import word_tokenize\n",
        "\n",
        "sentence = \"The Matrix is everywhere its all around us, here even in this room.\"\n",
        "words = word_tokenize(sentence)\n",
        "print(type(words), len(words))\n",
        "print(words)"
      ],
      "metadata": {
        "colab": {
          "base_uri": "https://localhost:8080/"
        },
        "id": "k4CwxP8hKbtH",
        "outputId": "e965bc3f-2b1a-4c85-b8f5-4b4af94bd14c"
      },
      "execution_count": 5,
      "outputs": [
        {
          "output_type": "stream",
          "name": "stdout",
          "text": [
            "<class 'list'> 15\n",
            "['The', 'Matrix', 'is', 'everywhere', 'its', 'all', 'around', 'us', ',', 'here', 'even', 'in', 'this', 'room', '.']\n"
          ]
        }
      ]
    },
    {
      "cell_type": "code",
      "source": [
        "# 이번에는 sent_tokenize와 word_tokenize를 조합해보자.\n",
        "from nltk import word_tokenize, sent_tokenize\n",
        "\n",
        "# 여러 개의 문장으로 된 입력 데이터를 문장별로 단어 토큰화하게 만드는 함수 생성\n",
        "def tokenize_text(text):\n",
        "\n",
        "    # 문장별로 분리 토큰\n",
        "    sentences = sent_tokenize(text)\n",
        "    # 분리된 문장별 단어 토큰화\n",
        "    word_tokens = [word_tokenize(sentence) for sentence in sentences]\n",
        "    return word_tokens\n",
        "\n",
        "# 여러 문장에 대해 문장별 단어 토큰화 수행\n",
        "word_tokens = tokenize_text(text_sample)\n",
        "print(type(word_tokens), len(word_tokens))\n",
        "print(word_tokens)"
      ],
      "metadata": {
        "colab": {
          "base_uri": "https://localhost:8080/"
        },
        "id": "Eo9xrjWgL7bd",
        "outputId": "42e44501-2811-4635-e5e4-4d6c08915d31"
      },
      "execution_count": 7,
      "outputs": [
        {
          "output_type": "stream",
          "name": "stdout",
          "text": [
            "<class 'list'> 3\n",
            "[['The', 'Matrix', 'is', 'everywhere', 'its', 'all', 'around', 'us', ',', 'here', 'even', 'in', 'this', 'room', '.'], ['You', 'can', 'see', 'it', 'out', 'your', 'window', 'or', 'on', 'your', 'television', '.'], ['You', 'feel', 'it', 'when', 'you', 'go', 'to', 'work', ',', 'or', 'go', 'to', 'church', 'or', 'pay', 'your', 'taxes', '.']]\n"
          ]
        }
      ]
    },
    {
      "cell_type": "markdown",
      "source": [
        "문장을 단어별로 하나씩 토큰화 할 경우 문맥적인 의미는 무시될 수밖에 없다. 이것을 해결해 보고자 도입된 것이 n-gram이다. 연속된 n개의 단어를 하나의 토큰화 단위로 분리해 내는 것이다.\n",
        "\n",
        "**필터링/스톱 워드 제거/철자 수정**\n",
        "\n",
        "스톱 워드는 분석에 큰 의미가 없는 단어를 지칭한다. 언어별로 이러한 스톱 워드가 목록화돼 있다. NTLK의 스톱 워드에는 어떤 것이 있는지 확인해 보자.\n"
      ],
      "metadata": {
        "id": "6FZo0gA9KVco"
      }
    },
    {
      "cell_type": "code",
      "source": [
        "import nltk\n",
        "nltk.download('stopwords')"
      ],
      "metadata": {
        "colab": {
          "base_uri": "https://localhost:8080/"
        },
        "id": "GfcXVJp_ODyI",
        "outputId": "5f9e6590-57a3-4bb3-b222-292400cfd726"
      },
      "execution_count": 8,
      "outputs": [
        {
          "output_type": "stream",
          "name": "stderr",
          "text": [
            "[nltk_data] Downloading package stopwords to /root/nltk_data...\n",
            "[nltk_data]   Unzipping corpora/stopwords.zip.\n"
          ]
        },
        {
          "output_type": "execute_result",
          "data": {
            "text/plain": [
              "True"
            ]
          },
          "metadata": {},
          "execution_count": 8
        }
      ]
    },
    {
      "cell_type": "code",
      "source": [
        "print('영어 stop words 갯수:', len(nltk.corpus.stopwords.words('english')))\n",
        "print(nltk.corpus.stopwords.words('english')[:20])"
      ],
      "metadata": {
        "colab": {
          "base_uri": "https://localhost:8080/"
        },
        "id": "7AQ4FYgzOIoV",
        "outputId": "09da4450-2cc5-4bd1-ced1-cd535fb37705"
      },
      "execution_count": 9,
      "outputs": [
        {
          "output_type": "stream",
          "name": "stdout",
          "text": [
            "영어 stop words 갯수: 198\n",
            "['a', 'about', 'above', 'after', 'again', 'against', 'ain', 'all', 'am', 'an', 'and', 'any', 'are', 'aren', \"aren't\", 'as', 'at', 'be', 'because', 'been']\n"
          ]
        }
      ]
    },
    {
      "cell_type": "code",
      "source": [
        "import nltk\n",
        "\n",
        "stopwords = nltk.corpus.stopwords.words('english')\n",
        "all_tokens = []\n",
        "# 위 예제에서 3개의 문장별로 얻은 word_tokens list에 대해 스톱 워드를 제거하는 반복문\n",
        "for sentence in word_tokens:\n",
        "    filtered_words = []\n",
        "    # 개별 문장별로 토큰화된 문장 list에 대해 스톱 워드를 제거하는 반복문\n",
        "    for word in sentence:\n",
        "        # 소문자로 모두 변환\n",
        "        word = word.lower()\n",
        "        # 토큰화된 개별 단어가 스톱 워드의 단어에 포함되지 않으면 word_tokens에 추가\n",
        "        if word not in stopwords:\n",
        "            filtered_words.append(word)\n",
        "    all_tokens.append(filtered_words)\n",
        "\n",
        "print(all_tokens)"
      ],
      "metadata": {
        "colab": {
          "base_uri": "https://localhost:8080/"
        },
        "id": "J7K7gx4dO1qQ",
        "outputId": "9cdab287-7e4a-4226-fdbf-a0dbf3af09a9"
      },
      "execution_count": 10,
      "outputs": [
        {
          "output_type": "stream",
          "name": "stdout",
          "text": [
            "[['matrix', 'everywhere', 'around', 'us', ',', 'even', 'room', '.'], ['see', 'window', 'television', '.'], ['feel', 'go', 'work', ',', 'go', 'church', 'pay', 'taxes', '.']]\n"
          ]
        }
      ]
    },
    {
      "cell_type": "markdown",
      "source": [
        "**Stemming과 Lemmatization**\n",
        "\n",
        "많은 언어에서 문법적인 요소에 따라 단어가 다양하게 변한다.\n",
        "\n",
        "Stemming, Lemmatization 두 기능 모두 원형 단어를 찾는다는 목적은 유사하지만, Lemmatization이 더 정교하며 의미론적인 기반에서 단어의 원형을 찾는다.(변환에 더 오랜 시간을 필요로 함.)\n",
        "\n",
        "NLTK에서 Stemming과 Lemmatization을 비교해보자. NLTK의 LancasterStemmer를 이용해보자."
      ],
      "metadata": {
        "id": "372lfLdxOCJU"
      }
    },
    {
      "cell_type": "code",
      "source": [
        "from nltk.stem import LancasterStemmer\n",
        "stemmer = LancasterStemmer()\n",
        "\n",
        "print(stemmer.stem('working'), stemmer.stem('works'), stemmer.stem('worked'))\n",
        "print(stemmer.stem('amusing'), stemmer.stem('amuses'), stemmer.stem('amused'))\n",
        "print(stemmer.stem('happier'), stemmer.stem('happiest'))\n",
        "print(stemmer.stem('fancier'), stemmer.stem('fanciest'))"
      ],
      "metadata": {
        "colab": {
          "base_uri": "https://localhost:8080/"
        },
        "id": "-CFCNBROQI4L",
        "outputId": "8193db5a-bc96-47ec-a2ba-8603bf764948"
      },
      "execution_count": 11,
      "outputs": [
        {
          "output_type": "stream",
          "name": "stdout",
          "text": [
            "work work work\n",
            "amus amus amus\n",
            "happy happiest\n",
            "fant fanciest\n"
          ]
        }
      ]
    },
    {
      "cell_type": "markdown",
      "source": [
        "이번에는 WordNetLemmatizer를 이용해 Lemmatization을 수행해보자. 정확한 원형 단어 추출을 위해 단어의 '품사'를 입력해줘야 한다."
      ],
      "metadata": {
        "id": "KsoB9PUOQPHQ"
      }
    },
    {
      "cell_type": "code",
      "source": [
        "from nltk.stem import WordNetLemmatizer\n",
        "import nltk\n",
        "nltk.download('wordnet')\n",
        "\n",
        "lemma = WordNetLemmatizer()\n",
        "print(lemma.lemmatize('amusing', 'v'), lemma.lemmatize('amuses', 'v'), lemma.lemmatize('amused', 'v'))\n",
        "print(lemma.lemmatize('happier', 'a'), lemma.lemmatize('happiest', 'a'))\n",
        "print(lemma.lemmatize('fancier', 'a'), lemma.lemmatize('fanciest', 'a'))"
      ],
      "metadata": {
        "colab": {
          "base_uri": "https://localhost:8080/"
        },
        "id": "qfoAv7QNQoe1",
        "outputId": "9f8ba61a-910d-4b28-9bf4-4d3cd3dcd1d3"
      },
      "execution_count": 12,
      "outputs": [
        {
          "output_type": "stream",
          "name": "stderr",
          "text": [
            "[nltk_data] Downloading package wordnet to /root/nltk_data...\n"
          ]
        },
        {
          "output_type": "stream",
          "name": "stdout",
          "text": [
            "amuse amuse amuse\n",
            "happy happy\n",
            "fancy fancy\n"
          ]
        }
      ]
    },
    {
      "cell_type": "markdown",
      "source": [
        "## 03. Bag of Workds - BOW\n",
        "BOW 모델은 문서가 가지는 모든 단어를 문맥이나 순서를 무시하고 일괄적으로 단어에 대해 빈도 값을 부여해 피처 값을 추출하는 모델이다.\n",
        "\n",
        "단점\n",
        "\n",
        "- 문맥 의미 반영 부족\n",
        "- 희소 행렬 문제: 대규모의 칼럼으로 구성된 행렬에서 대부분의 값이 0으로 채워짐.\n",
        "\n",
        "**BOW 피처 벡터화**\n",
        "\n",
        "BOW 모델에서 피처 벡터화를 수행한다는 것은 모든 문서에서 모든 단어를 칼럼 형태로 나열하고 각 문서에서 해당 단어의 횟수나 정규화된 빈도를 값으로 부여하는 데이터 세트 모델로 변경하는 것이다.\n",
        "\n",
        "BOW의 피처 벡터화는 두가지 방식이 있다.\n",
        "- 카운트 기반의 벡터화: 각 문서에서 해당 단어가 나타나는 횟수, 즉 Count를 부여하는 경우\n",
        "\n",
        "카운트 값이 높을수록 중요한 단어로 인식된다.\n",
        "- TF-IDF 기반의 벡터화: 개별 문서에서 자주 나타나는 단어에 높은 가중치를 주되, 모든 문서에서 전반적으로 자주 나타나는 단어에 대해서는 페널티를 주는 방식으로 값을 부여\n",
        "\n",
        "문서마다 텍스트가 길고 문서의 개수가 많은 경우 카운트 방식보다는 TF-IDF 방식을 사용하는 것이 더 좋은 예측 성능을 보장할 수 있다.\n",
        "\n",
        "**사이킷런의 Count 및 TF-IDF 벡터화 구현: CountVectorizer, TfidfVectorizer**\n",
        "\n",
        "사이킷런의 CountVectorizer 클래스는 단지 피처 벡터화만 수행하지는 않으며, 텍스트 전처리도 함께 수행한다. 관련 입력 파라미터가 존재하며, 그것을 설정해 동작한다.\n",
        "\n",
        "1. 전처리 작업 수행\n",
        "2. n_gram_range를 반영해 각 단어를 토큰화\n",
        "3. 텍스트 정규화 수행\n",
        "4. 토큰화된 단어를 피처로 추출, 단어 빈도수 벡터 값을 적용.\n",
        "\n",
        "TfidfVectorizer 클래스 또한 파라미터와 변환 방법이 동일하다.\n",
        "\n",
        "**BOW 벡터화를 위한 희소 행렬**\n",
        "\n",
        "희소 행렬은 너무 많은 불필요한 0 값이 메모리 공간에 할당되어 메모리 공간이 많이 필요하며, 행렬의 크기가 커서 연산 시에도 데이터 엑세스를 위한 시간이 많이 소모된다. 따라서 변환이 필요한데, 대표적인 방법으로는 COO 형식과 CSR 형식이 있다. 일반적으로는 CSR을 많이 사용한다.\n",
        "\n",
        "**희소 행렬 - COO 형식**\n",
        "\n",
        "COO 형식은 0이 아닌 데이터만 별도의 데이터 배열에 저장하고, 그 데이터가 가리키는 행과 열의 위치를 별도의 배열로 저장하는 방식이다.\n",
        "\n",
        "파이썬에서는 희소 행렬 변환을 위해서 주로 scipy를 이용하며, 사이파이의 sparse 패키지는 희소 행렬 변환을 위한 다양한 모듈을 제공한다. 이를 이용해 COO 형식으로 희소 행렬 변환을 수행해보자.\n",
        "\n"
      ],
      "metadata": {
        "id": "NsV5DokBQq8k"
      }
    },
    {
      "cell_type": "code",
      "source": [
        "import numpy as np\n",
        "\n",
        "dense = np.array([[3, 0, 1], [0, 2, 0]])"
      ],
      "metadata": {
        "id": "IRX9UZNLQovL"
      },
      "execution_count": 13,
      "outputs": []
    },
    {
      "cell_type": "code",
      "source": [
        "# coo_matrix 클래스를 이용해보자.\n",
        "from scipy import sparse\n",
        "\n",
        "# 0이 아닌 데이터 추출\n",
        "data = np.array([3, 1, 2])\n",
        "\n",
        "# 행 위치와 열 위치를 각각 배열로 생성\n",
        "row_pos = np.array([0, 0, 1])\n",
        "col_pos = np.array([0, 2, 1])\n",
        "\n",
        "# sparse 패키지의 coo_matrix를 이용해 COO 형식으로 희소 행렬 생성\n",
        "sparse_coo = sparse.coo_matrix((data, (row_pos, col_pos)))"
      ],
      "metadata": {
        "id": "WenLWJMQW3ay"
      },
      "execution_count": 14,
      "outputs": []
    },
    {
      "cell_type": "code",
      "source": [
        "sparse_coo.toarray() # COO 형식의 변수를 toarray()로 다시 밀집 형태의 행렬로 출력"
      ],
      "metadata": {
        "colab": {
          "base_uri": "https://localhost:8080/"
        },
        "id": "92beUryHXjN7",
        "outputId": "71988377-bf55-48f2-b49a-346645a092e4"
      },
      "execution_count": 15,
      "outputs": [
        {
          "output_type": "execute_result",
          "data": {
            "text/plain": [
              "array([[3, 0, 1],\n",
              "       [0, 2, 0]])"
            ]
          },
          "metadata": {},
          "execution_count": 15
        }
      ]
    },
    {
      "cell_type": "markdown",
      "source": [
        "다시 원래의 데이터 행렬로 추출되었다.\n",
        "\n",
        "**희소 행렬 - CSR 형식**\n",
        "\n",
        "COO 형식이 행과 열의 위치를 나타내기 위해서 반복적인 위치 데이터를 사용해야 하는 문제점을 해결한 방식이다. 즉, 행 위치 배열 내에 있는 고유한 값의 시작 위치만 다시 별도의 위치 배열로 가지는 변환 방식이다. (위치의 위치를 표기)\n",
        "\n",
        "맨 마지막에는 데이터의 총 항목 개수를 배열에 추가한다.\n",
        "\n",
        "COO 방식보다 메모리가 적게 들고 빠른 연산이 가능하다.\n",
        "\n",
        "CSR 방식의 변환은 사이파이의 csr_matrix 클래스를 이용해 쉽게 할 수 있다. 0이 아닌 데이터 배열과 열 위치 배열, 그리고 행 위치 배열의 고유한 값의 시작 위치 배열을 csr_matrix의 생성 파라미터로 입력하면 된다."
      ],
      "metadata": {
        "id": "BD8gzx0eY4kG"
      }
    },
    {
      "cell_type": "code",
      "source": [
        "from scipy import sparse\n",
        "\n",
        "dense2 = np.array([[0, 0, 1, 0, 0, 5],\n",
        "                   [1, 4, 0, 3, 2, 5],\n",
        "                   [0, 6, 0, 3, 0, 0],\n",
        "                   [2, 0, 0, 0, 0, 0],\n",
        "                   [0, 0, 0, 7, 0, 8],\n",
        "                   [1, 0, 0, 0, 0, 0]])\n",
        "\n",
        "# 0이 아닌 데이터 추출\n",
        "data2 = np.array([1, 5, 1, 4, 3, 2, 5, 6, 3, 2, 7, 8, 1])\n",
        "\n",
        "# 행 위치와 열 위치를 각각 array로 생성\n",
        "row_pos = np.array([0, 0, 1, 1, 1, 1, 1, 2, 2, 3, 4, 4, 5])\n",
        "col_pos = np.array([2, 5, 0, 1, 3, 4, 5, 1, 3, 0, 3, 5, 0])\n",
        "\n",
        "# COO 형식으로 변환\n",
        "sparse_coo = sparse.coo_matrix((data2, (row_pos, col_pos)))\n",
        "\n",
        "# 행 위치 배열의 고유한 값의 시작 위치 인덱스를 배열로 생성\n",
        "row_pos_ind = np.array([0, 2, 7, 9, 10, 12, 13])\n",
        "\n",
        "# CSR 형식으로 변환\n",
        "sparse_csr = sparse.csr_matrix((data2, col_pos, row_pos_ind))\n",
        "\n",
        "print('COO 변환된 데이터가 제대로 되었는지 다시 Dense로 출력 확인')\n",
        "print(sparse_coo.toarray())\n",
        "print('CSR 변환된 데이터가 제대로 되었는지 다시 Dense로 출력 확인')\n",
        "print(sparse_csr.toarray())"
      ],
      "metadata": {
        "colab": {
          "base_uri": "https://localhost:8080/"
        },
        "id": "-SHr7Ywrcnb1",
        "outputId": "cd178bc8-eaee-4a96-e2d8-b3f2c93a9cfa"
      },
      "execution_count": 16,
      "outputs": [
        {
          "output_type": "stream",
          "name": "stdout",
          "text": [
            "COO 변환된 데이터가 제대로 되었는지 다시 Dense로 출력 확인\n",
            "[[0 0 1 0 0 5]\n",
            " [1 4 0 3 2 5]\n",
            " [0 6 0 3 0 0]\n",
            " [2 0 0 0 0 0]\n",
            " [0 0 0 7 0 8]\n",
            " [1 0 0 0 0 0]]\n",
            "CSR 변환된 데이터가 제대로 되었는지 다시 Dense로 출력 확인\n",
            "[[0 0 1 0 0 5]\n",
            " [1 4 0 3 2 5]\n",
            " [0 6 0 3 0 0]\n",
            " [2 0 0 0 0 0]\n",
            " [0 0 0 7 0 8]\n",
            " [1 0 0 0 0 0]]\n"
          ]
        }
      ]
    },
    {
      "cell_type": "code",
      "source": [
        "dense3 = np.array([[0, 0, 1, 0, 0, 5],\n",
        "                   [1, 4, 0, 3, 2, 5],\n",
        "                   [0, 6, 0, 3, 0, 0],\n",
        "                   [2, 0, 0, 0, 0, 0],\n",
        "                   [0, 0, 0, 7, 0, 8],\n",
        "                   [1, 0, 0, 0, 0, 0]])\n",
        "\n",
        "coo = sparse.coo_matrix(dense3)\n",
        "csr = sparse.csr_matrix(dense3)"
      ],
      "metadata": {
        "id": "lU98bBpecn7R"
      },
      "execution_count": 17,
      "outputs": []
    },
    {
      "cell_type": "markdown",
      "source": [
        "사이킷런의 CountVectorizer나 TfidfVectorizer 클래스로 변환된 피처 벡터화 행렬은 모두 사이파이의 CSR 형태의 희소 행렬이다."
      ],
      "metadata": {
        "id": "ERiGNdMAdIAF"
      }
    }
  ]
}