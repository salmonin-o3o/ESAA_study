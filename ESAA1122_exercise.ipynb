{
  "nbformat": 4,
  "nbformat_minor": 0,
  "metadata": {
    "colab": {
      "provenance": [],
      "include_colab_link": true
    },
    "kernelspec": {
      "name": "python3",
      "display_name": "Python 3"
    },
    "language_info": {
      "name": "python"
    }
  },
  "cells": [
    {
      "cell_type": "markdown",
      "metadata": {
        "id": "view-in-github",
        "colab_type": "text"
      },
      "source": [
        "<a href=\"https://colab.research.google.com/github/salmonin-o3o/ESAA_study/blob/main/ESAA1122_exercise.ipynb\" target=\"_parent\"><img src=\"https://colab.research.google.com/assets/colab-badge.svg\" alt=\"Open In Colab\"/></a>"
      ]
    },
    {
      "cell_type": "code",
      "metadata": {
        "id": "t-RMDKJB7CyJ"
      },
      "source": [
        "# 데이터 로드\n",
        "from sklearn.datasets import fetch_openml\n",
        "mnist=fetch_openml('mnist_784', version=1)"
      ],
      "execution_count": 1,
      "outputs": []
    },
    {
      "cell_type": "code",
      "metadata": {
        "id": "itFJcmUSkBrK"
      },
      "source": [
        "# train, test split\n",
        "X_train = mnist['data'][:60000]\n",
        "y_train = mnist['target'][:60000]\n",
        "X_test = mnist['data'][60000:]\n",
        "y_test = mnist['target'][60000:]"
      ],
      "execution_count": 2,
      "outputs": []
    },
    {
      "cell_type": "markdown",
      "metadata": {
        "id": "RbkbV_ZWkSPc"
      },
      "source": [
        "* 랜덤포레스트에 적용"
      ]
    },
    {
      "cell_type": "code",
      "metadata": {
        "id": "xmeHyXmKkLN1"
      },
      "source": [
        "# 랜덤포레스트에 적용 (n_estimators=10, random_state=42)\n",
        "from sklearn.ensemble import RandomForestClassifier\n",
        "from sklearn.metrics import accuracy_score\n",
        "\n",
        "rf_clf = RandomForestClassifier(n_estimators=10, random_state=42)\n",
        "rf_clf.fit(X_train, y_train)\n",
        "y_pred = rf_clf.predict(X_test)"
      ],
      "execution_count": 5,
      "outputs": []
    },
    {
      "cell_type": "code",
      "metadata": {
        "id": "WXjOor-jknmH",
        "colab": {
          "base_uri": "https://localhost:8080/"
        },
        "outputId": "053970e3-3567-4021-eb51-08b1fe8fcfe1"
      },
      "source": [
        "# 정확도 결과\n",
        "accuracy = accuracy_score(y_test, y_pred)\n",
        "print(f\"랜덤 포레스트 정확도: {accuracy:.4f}\")"
      ],
      "execution_count": 6,
      "outputs": [
        {
          "output_type": "stream",
          "name": "stdout",
          "text": [
            "랜덤 포레스트 정확도: 0.9492\n"
          ]
        }
      ]
    },
    {
      "cell_type": "markdown",
      "source": [
        "# 1. PCA"
      ],
      "metadata": {
        "id": "yetHtlIxcCcY"
      }
    },
    {
      "cell_type": "markdown",
      "metadata": {
        "id": "Lw4KuER0lAGA"
      },
      "source": [
        "* PCA로 변환한 데이터 세트에 랜덤 포레스트 적용"
      ]
    },
    {
      "cell_type": "code",
      "source": [
        "# PCA 라이브러리 불러오기\n",
        "from sklearn.preprocessing import StandardScaler\n",
        "from sklearn.decomposition import PCA"
      ],
      "metadata": {
        "id": "1BLMGOa2VQuj"
      },
      "execution_count": 7,
      "outputs": []
    },
    {
      "cell_type": "code",
      "metadata": {
        "id": "u_w8te9tlDsr"
      },
      "source": [
        "# PCA 적용 95% : n_components=0.95\n",
        "# 데이터 스케일링\n",
        "scaler = StandardScaler()\n",
        "X_train_scaled = scaler.fit_transform(X_train)\n",
        "X_test_scaled = scaler.transform(X_test)\n",
        "\n",
        "# PCA 변환\n",
        "pca = PCA(n_components=0.95)\n",
        "X_train_pca = pca.fit_transform(X_train_scaled)\n",
        "X_test_pca = pca.transform(X_test_scaled)"
      ],
      "execution_count": 8,
      "outputs": []
    },
    {
      "cell_type": "code",
      "metadata": {
        "id": "aFezNneClV8u"
      },
      "source": [
        "# PCA 이후 랜덤포레스트 훈련\n",
        "rf_clf = RandomForestClassifier(n_estimators=10, random_state=42)\n",
        "rf_clf.fit(X_train_pca, y_train)\n",
        "y_pred = rf_clf.predict(X_test_pca)"
      ],
      "execution_count": 10,
      "outputs": []
    },
    {
      "cell_type": "code",
      "metadata": {
        "id": "PrsoPgs-lzYj",
        "colab": {
          "base_uri": "https://localhost:8080/"
        },
        "outputId": "e2bffb4b-e736-4e8b-eb19-1e8f3ff096a8"
      },
      "source": [
        "# 정확도 결과 (X_test도 PCA 적용해야합니다.)\n",
        "accuracy = accuracy_score(y_test, y_pred)\n",
        "print(f\"PCA 적용 후 랜덤 포레스트 정확도: {accuracy:.4f}\")"
      ],
      "execution_count": 11,
      "outputs": [
        {
          "output_type": "stream",
          "name": "stdout",
          "text": [
            "PCA 적용 후 랜덤 포레스트 정확도: 0.8905\n"
          ]
        }
      ]
    },
    {
      "cell_type": "markdown",
      "source": [
        "# 2. LDA"
      ],
      "metadata": {
        "id": "A0ZWH3uVb3zW"
      }
    },
    {
      "cell_type": "markdown",
      "source": [
        "- LDA로 변환한 데이터 세트에 랜덤 포레스트 적용"
      ],
      "metadata": {
        "id": "t-FBfbZ2b94z"
      }
    },
    {
      "cell_type": "code",
      "source": [
        "# LDA 라이브러리 불러오기\n",
        "from sklearn.discriminant_analysis import LinearDiscriminantAnalysis\n",
        "from sklearn.preprocessing import StandardScaler"
      ],
      "metadata": {
        "id": "WxQG2ep9VCo4"
      },
      "execution_count": 12,
      "outputs": []
    },
    {
      "cell_type": "code",
      "source": [
        "# LDA 적용 : n_components=5\n",
        "# 데이터 스케일링\n",
        "scaler = StandardScaler()\n",
        "X_train_scaled = scaler.fit_transform(X_train)\n",
        "X_test_scaled = scaler.transform(X_test)\n",
        "\n",
        "# LDA 변환\n",
        "lda = LinearDiscriminantAnalysis(n_components=5)\n",
        "X_train_lda = lda.fit_transform(X_train_scaled, y_train)\n",
        "X_test_lda = lda.transform(X_test_scaled)"
      ],
      "metadata": {
        "id": "SYvLRl5qYTsn"
      },
      "execution_count": 13,
      "outputs": []
    },
    {
      "cell_type": "code",
      "source": [
        "# LDA 이후 랜덤포레스트 훈련\n",
        "rf_clf = RandomForestClassifier(n_estimators=10, random_state=42)\n",
        "rf_clf.fit(X_train_lda, y_train)\n",
        "y_pred = rf_clf.predict(X_test_lda)"
      ],
      "metadata": {
        "id": "xggC9VrVZO3f"
      },
      "execution_count": 14,
      "outputs": []
    },
    {
      "cell_type": "code",
      "source": [
        "# 정확도 결과 (X_test도 LDA 적용해야합니다.)\n",
        "accuracy = accuracy_score(y_test, y_pred)\n",
        "print(f\"LDA 적용 후 랜덤 포레스트 정확도: {accuracy:.4f}\")"
      ],
      "metadata": {
        "id": "_oVckjoyY4Ly",
        "colab": {
          "base_uri": "https://localhost:8080/"
        },
        "outputId": "ac03e58b-d2d0-423f-96ec-80e32c1157a1"
      },
      "execution_count": 15,
      "outputs": [
        {
          "output_type": "stream",
          "name": "stdout",
          "text": [
            "LDA 적용 후 랜덤 포레스트 정확도: 0.8301\n"
          ]
        }
      ]
    }
  ]
}