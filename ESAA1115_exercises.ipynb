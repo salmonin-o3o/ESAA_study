{
  "nbformat": 4,
  "nbformat_minor": 0,
  "metadata": {
    "colab": {
      "provenance": [],
      "include_colab_link": true
    },
    "kernelspec": {
      "name": "python3",
      "display_name": "Python 3"
    },
    "language_info": {
      "name": "python"
    }
  },
  "cells": [
    {
      "cell_type": "markdown",
      "metadata": {
        "id": "view-in-github",
        "colab_type": "text"
      },
      "source": [
        "<a href=\"https://colab.research.google.com/github/salmonin-o3o/ESAA_study/blob/main/ESAA1115_exercises.ipynb\" target=\"_parent\"><img src=\"https://colab.research.google.com/assets/colab-badge.svg\" alt=\"Open In Colab\"/></a>"
      ]
    },
    {
      "cell_type": "markdown",
      "metadata": {
        "id": "OVjREzxqi3U1"
      },
      "source": [
        "# **1. 규제 선형 회귀 모델/ 회귀 트리**\n",
        "- 릿지 회귀모델 및 회귀 트리를 이용하여 전복의 나이를 예측해 보세요.\n",
        "\n",
        "- 전복의 ‘성별’, ‘키’, ‘지름’, ‘높이’, ‘전체무게’, ‘몸통무게’, ‘내장무게’, ‘껍질무게’를 이용해 ‘껍질의 고리수’를 예측한 뒤, **예측된 ‘껍질의 고리수’에 1.5를 더하면 전복의 나이**가 됩니다."
      ]
    },
    {
      "cell_type": "code",
      "metadata": {
        "id": "AdMN1y-1i_G4"
      },
      "source": [
        "# 기본 모듈 불러오기\n",
        "import numpy as np\n",
        "import pandas as pd\n",
        "\n",
        "import warnings\n",
        "warnings.filterwarnings(action='ignore')"
      ],
      "execution_count": 1,
      "outputs": []
    },
    {
      "cell_type": "markdown",
      "metadata": {
        "id": "fK6WkTaUjF_9"
      },
      "source": [
        "### 1) 데이터 불러오기 및 데이터 선택"
      ]
    },
    {
      "cell_type": "code",
      "metadata": {
        "id": "npiatc6TjCqM",
        "colab": {
          "base_uri": "https://localhost:8080/"
        },
        "outputId": "1843f42f-9cdf-4b27-887f-b68e26312b3e"
      },
      "source": [
        "# 데이터 로드\n",
        "from google.colab import drive\n",
        "drive.mount('/content/drive')\n",
        "data = pd.read_csv('/content/drive/My Drive/pythonprogramming/ESAA/abalone.csv')\n",
        "\n",
        "# 성별 M은 Male, F는 Female, I는 Infant 이므로 따로 열 만들기\n",
        "for label in \"MFI\":\n",
        "    data[label] = data[\"Sex\"] == label\n",
        "data.drop('Sex', axis=1, inplace=True)\n",
        "\n",
        "# X,y 데이터 선택\n",
        "y = data.Rings.values\n",
        "data.drop('Rings', axis=1, inplace=True)\n",
        "\n",
        "X = data.values.astype(float)"
      ],
      "execution_count": 2,
      "outputs": [
        {
          "output_type": "stream",
          "name": "stdout",
          "text": [
            "Drive already mounted at /content/drive; to attempt to forcibly remount, call drive.mount(\"/content/drive\", force_remount=True).\n"
          ]
        }
      ]
    },
    {
      "cell_type": "markdown",
      "metadata": {
        "id": "oRS_pBggjhWe"
      },
      "source": [
        "## 2) train/test 분리\n",
        ": 테스트 셋과 데이터 셋을 7:3 비율로 분리하세요."
      ]
    },
    {
      "cell_type": "code",
      "metadata": {
        "id": "MCos735FjRUg"
      },
      "source": [
        "# 필요한 모듈 불러오기\n",
        "from sklearn.model_selection import train_test_split"
      ],
      "execution_count": 3,
      "outputs": []
    },
    {
      "cell_type": "code",
      "metadata": {
        "id": "c2GBJgtRj0Ke"
      },
      "source": [
        "# train과 test set 분리 (train:test = 7:3 비율로)\n",
        "X_train, X_test, y_train, y_test = train_test_split(X, y, test_size=0.3, random_state=0)"
      ],
      "execution_count": 4,
      "outputs": []
    },
    {
      "cell_type": "markdown",
      "metadata": {
        "id": "bOxHN7dsj3xP"
      },
      "source": [
        "## 3) 릿지 모델을 이용한 모델링\n",
        ": 릿지 모델을 이용하여 전복의 나이를 예측해 보고 결과를 평가해 보세요."
      ]
    },
    {
      "cell_type": "markdown",
      "metadata": {
        "id": "SpLjzL0yks5X"
      },
      "source": [
        " 3-1) 릿지모델 생성, 교차검증, 평가에 필요한 모듈을 불러오세요."
      ]
    },
    {
      "cell_type": "code",
      "metadata": {
        "id": "rs5OSSjLj226"
      },
      "source": [
        "#필요한 모듈 불러오기\n",
        "from sklearn.linear_model import Ridge\n",
        "from sklearn.metrics import mean_squared_error\n",
        "from sklearn.model_selection import cross_val_score"
      ],
      "execution_count": 5,
      "outputs": []
    },
    {
      "cell_type": "markdown",
      "metadata": {
        "id": "-KTiaLjilHXT"
      },
      "source": [
        "3-2) 릿지 모델을 생성하고 훈련하여 MSE와 RMSE를 구하세요. 릿지 모델 생성 시  alpha는 0.3으로 설정합니다. (교차 검증 하지 않습니다.)"
      ]
    },
    {
      "cell_type": "code",
      "metadata": {
        "id": "eK37aNO5lOT-",
        "colab": {
          "base_uri": "https://localhost:8080/"
        },
        "outputId": "3105cd12-947b-48f6-936e-642f529b1be7"
      },
      "source": [
        "#릿지모델 생성 및 훈련\n",
        "ridge = Ridge(alpha=0.3)\n",
        "ridge.fit(X_train, y_train)\n",
        "#예측값 구하기\n",
        "y_preds = ridge.predict(X_test)\n",
        "\n",
        "#구한 예측값을 활용해 최종적으로 전복의 나이 예측\n",
        "y_preds + 1.5"
      ],
      "execution_count": 6,
      "outputs": [
        {
          "output_type": "execute_result",
          "data": {
            "text/plain": [
              "array([14.7338535 , 10.6097756 , 11.96922045, ..., 10.92010051,\n",
              "       20.07580883, 12.45775586])"
            ]
          },
          "metadata": {},
          "execution_count": 6
        }
      ]
    },
    {
      "cell_type": "code",
      "source": [
        "#MSE와 RMSE구하기\n",
        "mse = mean_squared_error(y_test, y_preds)\n",
        "rmse = np.sqrt(mse)\n",
        "print('MSE : {0:.3f}, RMSE : {1:.3f}'.format(mse, rmse))"
      ],
      "metadata": {
        "colab": {
          "base_uri": "https://localhost:8080/"
        },
        "id": "D_d4qmipI86J",
        "outputId": "363ee2df-9930-42a4-cc7c-3b0f690ba652"
      },
      "execution_count": 7,
      "outputs": [
        {
          "output_type": "stream",
          "name": "stdout",
          "text": [
            "MSE : 5.013, RMSE : 2.239\n"
          ]
        }
      ]
    },
    {
      "cell_type": "markdown",
      "metadata": {
        "id": "MK2LACYtliyO"
      },
      "source": [
        "3-3) 교차검증을 이용하여 0, 0.1, 1, 10, 100 중  모델 성능이 가장 좋게 나오는 (rmse가 최소가 되는) alpha를 구하세요."
      ]
    },
    {
      "cell_type": "code",
      "metadata": {
        "id": "0Bf_TsDomO4i"
      },
      "source": [
        "# 주어진 alpha\n",
        "alphas=[0, 0.1, 1, 10, 100]"
      ],
      "execution_count": 8,
      "outputs": []
    },
    {
      "cell_type": "code",
      "metadata": {
        "id": "n7Opz8bomXpM",
        "colab": {
          "base_uri": "https://localhost:8080/"
        },
        "outputId": "c46285ba-336c-40f8-b3dd-d6ed0496e138"
      },
      "source": [
        "#alphas list 값을 반복하면서 alpha에 따른 평균 rmse를 구함\n",
        "for alpha in alphas :\n",
        "  ridge = Ridge(alpha = alpha)\n",
        "\n",
        "  #cross_val_score를 이용해 5 폴드의 평균 RMSE를 계산\n",
        "  neg_mse_scores = cross_val_score(ridge, X, y, scoring='neg_mean_squared_error', cv=5)\n",
        "  avg_rmse = np.mean(np.sqrt(-1*neg_mse_scores))\n",
        "  print('alpha {0} 일 때 5 folds의 평균 RMSE : {1:.3f}'.format(alpha, avg_rmse))"
      ],
      "execution_count": 9,
      "outputs": [
        {
          "output_type": "stream",
          "name": "stdout",
          "text": [
            "alpha 0 일 때 5 folds의 평균 RMSE : 2.244\n",
            "alpha 0.1 일 때 5 folds의 평균 RMSE : 2.237\n",
            "alpha 1 일 때 5 folds의 평균 RMSE : 2.230\n",
            "alpha 10 일 때 5 folds의 평균 RMSE : 2.337\n",
            "alpha 100 일 때 5 folds의 평균 RMSE : 2.621\n"
          ]
        }
      ]
    },
    {
      "cell_type": "markdown",
      "metadata": {
        "id": "LpPsOGdcm5ch"
      },
      "source": [
        "## 4) XGBRegressor을 이용한 모델링\n",
        ": XGBRegressor 모델을 이용하여 전복의 나이를 예측해 보고 결과를 평가해 보세요."
      ]
    },
    {
      "cell_type": "markdown",
      "metadata": {
        "id": "mUIF11POny1k"
      },
      "source": [
        "4-1) XGBRegressor 훈련, 평가에 필요한 모듈을 불러오세요."
      ]
    },
    {
      "cell_type": "code",
      "metadata": {
        "id": "0tB7r-_HnJen"
      },
      "source": [
        "# 필요한 모듈 임포트\n",
        "from xgboost import XGBRegressor"
      ],
      "execution_count": 10,
      "outputs": []
    },
    {
      "cell_type": "markdown",
      "metadata": {
        "id": "_Gl2TyADoC2S"
      },
      "source": [
        "4-2) XGBregressor 모델을 생성하고 훈련하여 MSE와 RMSE를 구하세요."
      ]
    },
    {
      "cell_type": "code",
      "metadata": {
        "id": "KM5wcdkuoFk2",
        "colab": {
          "base_uri": "https://localhost:8080/"
        },
        "outputId": "b250f961-787d-4c1e-b77e-72950d458350"
      },
      "source": [
        "#모델 생성 및 훈련\n",
        "xgb_reg = XGBRegressor(n_estimators=1000)\n",
        "xgb_reg.fit(X_train, y_train)\n",
        "\n",
        "#예측값 구하기\n",
        "y_preds = xgb_reg.predict(X_test)\n",
        "\n",
        "#구한 예측값을 활용해 최종적으로 전복의 나이 예측\n",
        "y_preds + 1.5"
      ],
      "execution_count": 11,
      "outputs": [
        {
          "output_type": "execute_result",
          "data": {
            "text/plain": [
              "array([15.885478,  9.793853, 11.547982, ..., 11.466671, 16.631386,\n",
              "       14.549233], dtype=float32)"
            ]
          },
          "metadata": {},
          "execution_count": 11
        }
      ]
    },
    {
      "cell_type": "code",
      "source": [
        "#MSE와 RMSE 구하기\n",
        "mse = mean_squared_error(y_test, y_preds)\n",
        "rmse = np.sqrt(mse)\n",
        "print('MSE : {0:.3f}, RMSE : {1:.3f}'.format(mse, rmse))"
      ],
      "metadata": {
        "colab": {
          "base_uri": "https://localhost:8080/"
        },
        "id": "K73j5VKGJ8Sm",
        "outputId": "091be2f0-ba6d-4351-fba3-e266d63ff04c"
      },
      "execution_count": 12,
      "outputs": [
        {
          "output_type": "stream",
          "name": "stdout",
          "text": [
            "MSE : 5.722, RMSE : 2.392\n"
          ]
        }
      ]
    },
    {
      "cell_type": "markdown",
      "source": [
        "4-3) 생성한 모델의 피처 중요도를 시각화해보세요."
      ],
      "metadata": {
        "id": "VkJBJHQ_qVUP"
      }
    },
    {
      "cell_type": "code",
      "metadata": {
        "id": "MKD9V4AKpAPY",
        "colab": {
          "base_uri": "https://localhost:8080/",
          "height": 466
        },
        "outputId": "903938ed-1a2f-4fa5-af5e-79197d0132cf"
      },
      "source": [
        "import seaborn as sns\n",
        "import pandas as pd\n",
        "%matplotlib inline\n",
        "\n",
        "feature_series = pd.Series(data=xgb_reg.feature_importances_)\n",
        "feature_series = feature_series.sort_values(ascending=False)\n",
        "sns.barplot(x=feature_series, y=feature_series.index)"
      ],
      "execution_count": 13,
      "outputs": [
        {
          "output_type": "execute_result",
          "data": {
            "text/plain": [
              "<Axes: xlabel='None', ylabel='None'>"
            ]
          },
          "metadata": {},
          "execution_count": 13
        },
        {
          "output_type": "display_data",
          "data": {
            "text/plain": [
              "<Figure size 640x480 with 1 Axes>"
            ],
            "image/png": "[encoded data removed]"
          },
          "metadata": {}
        }
      ]
    },
    {
      "cell_type": "markdown",
      "source": [
        "---"
      ],
      "metadata": {
        "id": "r3_q8tIMscmi"
      }
    },
    {
      "cell_type": "markdown",
      "metadata": {
        "id": "7fp_617QpGIK"
      },
      "source": [
        "# **2. 로지스틱 회귀분석**\n",
        "load_wine() 함수를 이용하여 와인 데이터를 다항분류하는 로지스틱 회귀모델을 생성하세요."
      ]
    },
    {
      "cell_type": "code",
      "metadata": {
        "id": "0s6eNftxpOku"
      },
      "source": [
        "# 필요한 모듈 불러오기\n",
        "from sklearn.datasets import load_wine\n",
        "from sklearn.model_selection import train_test_split\n",
        "from sklearn.linear_model import LogisticRegression\n",
        "from sklearn import metrics"
      ],
      "execution_count": 14,
      "outputs": []
    },
    {
      "cell_type": "markdown",
      "metadata": {
        "id": "COFC2gmIpWv8"
      },
      "source": [
        "## 1) 데이터 불러오기 및 변수 선택"
      ]
    },
    {
      "cell_type": "code",
      "metadata": {
        "id": "oyGjyyGWpgOn"
      },
      "source": [
        "wine = load_wine()\n",
        "\n",
        "wine_x = wine.data # x변수\n",
        "wine_y = wine.target # y변수"
      ],
      "execution_count": 15,
      "outputs": []
    },
    {
      "cell_type": "markdown",
      "metadata": {
        "id": "wwppN1b-pjAq"
      },
      "source": [
        "## 2) train/test 셋 분리"
      ]
    },
    {
      "cell_type": "code",
      "metadata": {
        "id": "WG0_2HQUpiVQ",
        "colab": {
          "base_uri": "https://localhost:8080/"
        },
        "outputId": "26212d9d-3823-4255-ff71-2ee8cff8851c"
      },
      "source": [
        "x_train, x_test, y_train, y_test = train_test_split(wine_x, wine_y, test_size=0.3, random_state=123)\n",
        "\n",
        "print(x_train.shape)\n",
        "print(y_train.shape)"
      ],
      "execution_count": 16,
      "outputs": [
        {
          "output_type": "stream",
          "name": "stdout",
          "text": [
            "(124, 13)\n",
            "(124,)\n"
          ]
        }
      ]
    },
    {
      "cell_type": "markdown",
      "metadata": {
        "id": "at-bYN42rsUK"
      },
      "source": [
        "## 3) 로지스틱 회귀모델을 이용한 모델링"
      ]
    },
    {
      "cell_type": "markdown",
      "metadata": {
        "id": "zd0Lf4Ejr_WQ"
      },
      "source": [
        "3-1) 로지스틱 회귀모델을 생성하여 훈련하세요."
      ]
    },
    {
      "cell_type": "code",
      "metadata": {
        "id": "5kaHD1nJpo9c",
        "colab": {
          "base_uri": "https://localhost:8080/",
          "height": 80
        },
        "outputId": "7a52f074-3187-4ae1-fb2c-49416c3ca903"
      },
      "source": [
        "lr_clf = LogisticRegression()\n",
        "lr_clf.fit(x_train, y_train)"
      ],
      "execution_count": 17,
      "outputs": [
        {
          "output_type": "execute_result",
          "data": {
            "text/plain": [
              "LogisticRegression()"
            ],
            "text/html": [
              "<style>#sk-container-id-1 {\n",
              "  /* Definition of color scheme common for light and dark mode */\n",
              "  --sklearn-color-text: black;\n",
              "  --sklearn-color-line: gray;\n",
              "  /* Definition of color scheme for unfitted estimators */\n",
              "  --sklearn-color-unfitted-level-0: #fff5e6;\n",
              "  --sklearn-color-unfitted-level-1: #f6e4d2;\n",
              "  --sklearn-color-unfitted-level-2: #ffe0b3;\n",
              "  --sklearn-color-unfitted-level-3: chocolate;\n",
              "  /* Definition of color scheme for fitted estimators */\n",
              "  --sklearn-color-fitted-level-0: #f0f8ff;\n",
              "  --sklearn-color-fitted-level-1: #d4ebff;\n",
              "  --sklearn-color-fitted-level-2: #b3dbfd;\n",
              "  --sklearn-color-fitted-level-3: cornflowerblue;\n",
              "\n",
              "  /* Specific color for light theme */\n",
              "  --sklearn-color-text-on-default-background: var(--sg-text-color, var(--theme-code-foreground, var(--jp-content-font-color1, black)));\n",
              "  --sklearn-color-background: var(--sg-background-color, var(--theme-background, var(--jp-layout-color0, white)));\n",
              "  --sklearn-color-border-box: var(--sg-text-color, var(--theme-code-foreground, var(--jp-content-font-color1, black)));\n",
              "  --sklearn-color-icon: #696969;\n",
              "\n",
              "  @media (prefers-color-scheme: dark) {\n",
              "    /* Redefinition of color scheme for dark theme */\n",
              "    --sklearn-color-text-on-default-background: var(--sg-text-color, var(--theme-code-foreground, var(--jp-content-font-color1, white)));\n",
              "    --sklearn-color-background: var(--sg-background-color, var(--theme-background, var(--jp-layout-color0, #111)));\n",
              "    --sklearn-color-border-box: var(--sg-text-color, var(--theme-code-foreground, var(--jp-content-font-color1, white)));\n",
              "    --sklearn-color-icon: #878787;\n",
              "  }\n",
              "}\n",
              "\n",
              "#sk-container-id-1 {\n",
              "  color: var(--sklearn-color-text);\n",
              "}\n",
              "\n",
              "#sk-container-id-1 pre {\n",
              "  padding: 0;\n",
              "}\n",
              "\n",
              "#sk-container-id-1 input.sk-hidden--visually {\n",
              "  border: 0;\n",
              "  clip: rect(1px 1px 1px 1px);\n",
              "  clip: rect(1px, 1px, 1px, 1px);\n",
              "  height: 1px;\n",
              "  margin: -1px;\n",
              "  overflow: hidden;\n",
              "  padding: 0;\n",
              "  position: absolute;\n",
              "  width: 1px;\n",
              "}\n",
              "\n",
              "#sk-container-id-1 div.sk-dashed-wrapped {\n",
              "  border: 1px dashed var(--sklearn-color-line);\n",
              "  margin: 0 0.4em 0.5em 0.4em;\n",
              "  box-sizing: border-box;\n",
              "  padding-bottom: 0.4em;\n",
              "  background-color: var(--sklearn-color-background);\n",
              "}\n",
              "\n",
              "#sk-container-id-1 div.sk-container {\n",
              "  /* jupyter's `normalize.less` sets `[hidden] { display: none; }`\n",
              "     but bootstrap.min.css set `[hidden] { display: none !important; }`\n",
              "     so we also need the `!important` here to be able to override the\n",
              "     default hidden behavior on the sphinx rendered scikit-learn.org.\n",
              "     See: https://github.com/scikit-learn/scikit-learn/issues/21755 */\n",
              "  display: inline-block !important;\n",
              "  position: relative;\n",
              "}\n",
              "\n",
              "#sk-container-id-1 div.sk-text-repr-fallback {\n",
              "  display: none;\n",
              "}\n",
              "\n",
              "div.sk-parallel-item,\n",
              "div.sk-serial,\n",
              "div.sk-item {\n",
              "  /* draw centered vertical line to link estimators */\n",
              "  background-image: linear-gradient(var(--sklearn-color-text-on-default-background), var(--sklearn-color-text-on-default-background));\n",
              "  background-size: 2px 100%;\n",
              "  background-repeat: no-repeat;\n",
              "  background-position: center center;\n",
              "}\n",
              "\n",
              "/* Parallel-specific style estimator block */\n",
              "\n",
              "#sk-container-id-1 div.sk-parallel-item::after {\n",
              "  content: \"\";\n",
              "  width: 100%;\n",
              "  border-bottom: 2px solid var(--sklearn-color-text-on-default-background);\n",
              "  flex-grow: 1;\n",
              "}\n",
              "\n",
              "#sk-container-id-1 div.sk-parallel {\n",
              "  display: flex;\n",
              "  align-items: stretch;\n",
              "  justify-content: center;\n",
              "  background-color: var(--sklearn-color-background);\n",
              "  position: relative;\n",
              "}\n",
              "\n",
              "#sk-container-id-1 div.sk-parallel-item {\n",
              "  display: flex;\n",
              "  flex-direction: column;\n",
              "}\n",
              "\n",
              "#sk-container-id-1 div.sk-parallel-item:first-child::after {\n",
              "  align-self: flex-end;\n",
              "  width: 50%;\n",
              "}\n",
              "\n",
              "#sk-container-id-1 div.sk-parallel-item:last-child::after {\n",
              "  align-self: flex-start;\n",
              "  width: 50%;\n",
              "}\n",
              "\n",
              "#sk-container-id-1 div.sk-parallel-item:only-child::after {\n",
              "  width: 0;\n",
              "}\n",
              "\n",
              "/* Serial-specific style estimator block */\n",
              "\n",
              "#sk-container-id-1 div.sk-serial {\n",
              "  display: flex;\n",
              "  flex-direction: column;\n",
              "  align-items: center;\n",
              "  background-color: var(--sklearn-color-background);\n",
              "  padding-right: 1em;\n",
              "  padding-left: 1em;\n",
              "}\n",
              "\n",
              "\n",
              "/* Toggleable style: style used for estimator/Pipeline/ColumnTransformer box that is\n",
              "clickable and can be expanded/collapsed.\n",
              "- Pipeline and ColumnTransformer use this feature and define the default style\n",
              "- Estimators will overwrite some part of the style using the `sk-estimator` class\n",
              "*/\n",
              "\n",
              "/* Pipeline and ColumnTransformer style (default) */\n",
              "\n",
              "#sk-container-id-1 div.sk-toggleable {\n",
              "  /* Default theme specific background. It is overwritten whether we have a\n",
              "  specific estimator or a Pipeline/ColumnTransformer */\n",
              "  background-color: var(--sklearn-color-background);\n",
              "}\n",
              "\n",
              "/* Toggleable label */\n",
              "#sk-container-id-1 label.sk-toggleable__label {\n",
              "  cursor: pointer;\n",
              "  display: block;\n",
              "  width: 100%;\n",
              "  margin-bottom: 0;\n",
              "  padding: 0.5em;\n",
              "  box-sizing: border-box;\n",
              "  text-align: center;\n",
              "}\n",
              "\n",
              "#sk-container-id-1 label.sk-toggleable__label-arrow:before {\n",
              "  /* Arrow on the left of the label */\n",
              "  content: \"▸\";\n",
              "  float: left;\n",
              "  margin-right: 0.25em;\n",
              "  color: var(--sklearn-color-icon);\n",
              "}\n",
              "\n",
              "#sk-container-id-1 label.sk-toggleable__label-arrow:hover:before {\n",
              "  color: var(--sklearn-color-text);\n",
              "}\n",
              "\n",
              "/* Toggleable content - dropdown */\n",
              "\n",
              "#sk-container-id-1 div.sk-toggleable__content {\n",
              "  max-height: 0;\n",
              "  max-width: 0;\n",
              "  overflow: hidden;\n",
              "  text-align: left;\n",
              "  /* unfitted */\n",
              "  background-color: var(--sklearn-color-unfitted-level-0);\n",
              "}\n",
              "\n",
              "#sk-container-id-1 div.sk-toggleable__content.fitted {\n",
              "  /* fitted */\n",
              "  background-color: var(--sklearn-color-fitted-level-0);\n",
              "}\n",
              "\n",
              "#sk-container-id-1 div.sk-toggleable__content pre {\n",
              "  margin: 0.2em;\n",
              "  border-radius: 0.25em;\n",
              "  color: var(--sklearn-color-text);\n",
              "  /* unfitted */\n",
              "  background-color: var(--sklearn-color-unfitted-level-0);\n",
              "}\n",
              "\n",
              "#sk-container-id-1 div.sk-toggleable__content.fitted pre {\n",
              "  /* unfitted */\n",
              "  background-color: var(--sklearn-color-fitted-level-0);\n",
              "}\n",
              "\n",
              "#sk-container-id-1 input.sk-toggleable__control:checked~div.sk-toggleable__content {\n",
              "  /* Expand drop-down */\n",
              "  max-height: 200px;\n",
              "  max-width: 100%;\n",
              "  overflow: auto;\n",
              "}\n",
              "\n",
              "#sk-container-id-1 input.sk-toggleable__control:checked~label.sk-toggleable__label-arrow:before {\n",
              "  content: \"▾\";\n",
              "}\n",
              "\n",
              "/* Pipeline/ColumnTransformer-specific style */\n",
              "\n",
              "#sk-container-id-1 div.sk-label input.sk-toggleable__control:checked~label.sk-toggleable__label {\n",
              "  color: var(--sklearn-color-text);\n",
              "  background-color: var(--sklearn-color-unfitted-level-2);\n",
              "}\n",
              "\n",
              "#sk-container-id-1 div.sk-label.fitted input.sk-toggleable__control:checked~label.sk-toggleable__label {\n",
              "  background-color: var(--sklearn-color-fitted-level-2);\n",
              "}\n",
              "\n",
              "/* Estimator-specific style */\n",
              "\n",
              "/* Colorize estimator box */\n",
              "#sk-container-id-1 div.sk-estimator input.sk-toggleable__control:checked~label.sk-toggleable__label {\n",
              "  /* unfitted */\n",
              "  background-color: var(--sklearn-color-unfitted-level-2);\n",
              "}\n",
              "\n",
              "#sk-container-id-1 div.sk-estimator.fitted input.sk-toggleable__control:checked~label.sk-toggleable__label {\n",
              "  /* fitted */\n",
              "  background-color: var(--sklearn-color-fitted-level-2);\n",
              "}\n",
              "\n",
              "#sk-container-id-1 div.sk-label label.sk-toggleable__label,\n",
              "#sk-container-id-1 div.sk-label label {\n",
              "  /* The background is the default theme color */\n",
              "  color: var(--sklearn-color-text-on-default-background);\n",
              "}\n",
              "\n",
              "/* On hover, darken the color of the background */\n",
              "#sk-container-id-1 div.sk-label:hover label.sk-toggleable__label {\n",
              "  color: var(--sklearn-color-text);\n",
              "  background-color: var(--sklearn-color-unfitted-level-2);\n",
              "}\n",
              "\n",
              "/* Label box, darken color on hover, fitted */\n",
              "#sk-container-id-1 div.sk-label.fitted:hover label.sk-toggleable__label.fitted {\n",
              "  color: var(--sklearn-color-text);\n",
              "  background-color: var(--sklearn-color-fitted-level-2);\n",
              "}\n",
              "\n",
              "/* Estimator label */\n",
              "\n",
              "#sk-container-id-1 div.sk-label label {\n",
              "  font-family: monospace;\n",
              "  font-weight: bold;\n",
              "  display: inline-block;\n",
              "  line-height: 1.2em;\n",
              "}\n",
              "\n",
              "#sk-container-id-1 div.sk-label-container {\n",
              "  text-align: center;\n",
              "}\n",
              "\n",
              "/* Estimator-specific */\n",
              "#sk-container-id-1 div.sk-estimator {\n",
              "  font-family: monospace;\n",
              "  border: 1px dotted var(--sklearn-color-border-box);\n",
              "  border-radius: 0.25em;\n",
              "  box-sizing: border-box;\n",
              "  margin-bottom: 0.5em;\n",
              "  /* unfitted */\n",
              "  background-color: var(--sklearn-color-unfitted-level-0);\n",
              "}\n",
              "\n",
              "#sk-container-id-1 div.sk-estimator.fitted {\n",
              "  /* fitted */\n",
              "  background-color: var(--sklearn-color-fitted-level-0);\n",
              "}\n",
              "\n",
              "/* on hover */\n",
              "#sk-container-id-1 div.sk-estimator:hover {\n",
              "  /* unfitted */\n",
              "  background-color: var(--sklearn-color-unfitted-level-2);\n",
              "}\n",
              "\n",
              "#sk-container-id-1 div.sk-estimator.fitted:hover {\n",
              "  /* fitted */\n",
              "  background-color: var(--sklearn-color-fitted-level-2);\n",
              "}\n",
              "\n",
              "/* Specification for estimator info (e.g. \"i\" and \"?\") */\n",
              "\n",
              "/* Common style for \"i\" and \"?\" */\n",
              "\n",
              ".sk-estimator-doc-link,\n",
              "a:link.sk-estimator-doc-link,\n",
              "a:visited.sk-estimator-doc-link {\n",
              "  float: right;\n",
              "  font-size: smaller;\n",
              "  line-height: 1em;\n",
              "  font-family: monospace;\n",
              "  background-color: var(--sklearn-color-background);\n",
              "  border-radius: 1em;\n",
              "  height: 1em;\n",
              "  width: 1em;\n",
              "  text-decoration: none !important;\n",
              "  margin-left: 1ex;\n",
              "  /* unfitted */\n",
              "  border: var(--sklearn-color-unfitted-level-1) 1pt solid;\n",
              "  color: var(--sklearn-color-unfitted-level-1);\n",
              "}\n",
              "\n",
              ".sk-estimator-doc-link.fitted,\n",
              "a:link.sk-estimator-doc-link.fitted,\n",
              "a:visited.sk-estimator-doc-link.fitted {\n",
              "  /* fitted */\n",
              "  border: var(--sklearn-color-fitted-level-1) 1pt solid;\n",
              "  color: var(--sklearn-color-fitted-level-1);\n",
              "}\n",
              "\n",
              "/* On hover */\n",
              "div.sk-estimator:hover .sk-estimator-doc-link:hover,\n",
              ".sk-estimator-doc-link:hover,\n",
              "div.sk-label-container:hover .sk-estimator-doc-link:hover,\n",
              ".sk-estimator-doc-link:hover {\n",
              "  /* unfitted */\n",
              "  background-color: var(--sklearn-color-unfitted-level-3);\n",
              "  color: var(--sklearn-color-background);\n",
              "  text-decoration: none;\n",
              "}\n",
              "\n",
              "div.sk-estimator.fitted:hover .sk-estimator-doc-link.fitted:hover,\n",
              ".sk-estimator-doc-link.fitted:hover,\n",
              "div.sk-label-container:hover .sk-estimator-doc-link.fitted:hover,\n",
              ".sk-estimator-doc-link.fitted:hover {\n",
              "  /* fitted */\n",
              "  background-color: var(--sklearn-color-fitted-level-3);\n",
              "  color: var(--sklearn-color-background);\n",
              "  text-decoration: none;\n",
              "}\n",
              "\n",
              "/* Span, style for the box shown on hovering the info icon */\n",
              ".sk-estimator-doc-link span {\n",
              "  display: none;\n",
              "  z-index: 9999;\n",
              "  position: relative;\n",
              "  font-weight: normal;\n",
              "  right: .2ex;\n",
              "  padding: .5ex;\n",
              "  margin: .5ex;\n",
              "  width: min-content;\n",
              "  min-width: 20ex;\n",
              "  max-width: 50ex;\n",
              "  color: var(--sklearn-color-text);\n",
              "  box-shadow: 2pt 2pt 4pt #999;\n",
              "  /* unfitted */\n",
              "  background: var(--sklearn-color-unfitted-level-0);\n",
              "  border: .5pt solid var(--sklearn-color-unfitted-level-3);\n",
              "}\n",
              "\n",
              ".sk-estimator-doc-link.fitted span {\n",
              "  /* fitted */\n",
              "  background: var(--sklearn-color-fitted-level-0);\n",
              "  border: var(--sklearn-color-fitted-level-3);\n",
              "}\n",
              "\n",
              ".sk-estimator-doc-link:hover span {\n",
              "  display: block;\n",
              "}\n",
              "\n",
              "/* \"?\"-specific style due to the `<a>` HTML tag */\n",
              "\n",
              "#sk-container-id-1 a.estimator_doc_link {\n",
              "  float: right;\n",
              "  font-size: 1rem;\n",
              "  line-height: 1em;\n",
              "  font-family: monospace;\n",
              "  background-color: var(--sklearn-color-background);\n",
              "  border-radius: 1rem;\n",
              "  height: 1rem;\n",
              "  width: 1rem;\n",
              "  text-decoration: none;\n",
              "  /* unfitted */\n",
              "  color: var(--sklearn-color-unfitted-level-1);\n",
              "  border: var(--sklearn-color-unfitted-level-1) 1pt solid;\n",
              "}\n",
              "\n",
              "#sk-container-id-1 a.estimator_doc_link.fitted {\n",
              "  /* fitted */\n",
              "  border: var(--sklearn-color-fitted-level-1) 1pt solid;\n",
              "  color: var(--sklearn-color-fitted-level-1);\n",
              "}\n",
              "\n",
              "/* On hover */\n",
              "#sk-container-id-1 a.estimator_doc_link:hover {\n",
              "  /* unfitted */\n",
              "  background-color: var(--sklearn-color-unfitted-level-3);\n",
              "  color: var(--sklearn-color-background);\n",
              "  text-decoration: none;\n",
              "}\n",
              "\n",
              "#sk-container-id-1 a.estimator_doc_link.fitted:hover {\n",
              "  /* fitted */\n",
              "  background-color: var(--sklearn-color-fitted-level-3);\n",
              "}\n",
              "</style><div id=\"sk-container-id-1\" class=\"sk-top-container\"><div class=\"sk-text-repr-fallback\"><pre>LogisticRegression()</pre><b>In a Jupyter environment, please rerun this cell to show the HTML representation or trust the notebook. <br />On GitHub, the HTML representation is unable to render, please try loading this page with nbviewer.org.</b></div><div class=\"sk-container\" hidden><div class=\"sk-item\"><div class=\"sk-estimator fitted sk-toggleable\"><input class=\"sk-toggleable__control sk-hidden--visually\" id=\"sk-estimator-id-1\" type=\"checkbox\" checked><label for=\"sk-estimator-id-1\" class=\"sk-toggleable__label fitted sk-toggleable__label-arrow fitted\">&nbsp;&nbsp;LogisticRegression<a class=\"sk-estimator-doc-link fitted\" rel=\"noreferrer\" target=\"_blank\" href=\"https://scikit-learn.org/1.5/modules/generated/sklearn.linear_model.LogisticRegression.html\">?<span>Documentation for LogisticRegression</span></a><span class=\"sk-estimator-doc-link fitted\">i<span>Fitted</span></span></label><div class=\"sk-toggleable__content fitted\"><pre>LogisticRegression()</pre></div> </div></div></div></div>"
            ]
          },
          "metadata": {},
          "execution_count": 17
        }
      ]
    },
    {
      "cell_type": "markdown",
      "metadata": {
        "id": "5icNrKefsR8A"
      },
      "source": [
        "3-2) 회귀 모델의 기울기와 절편을 구하세요."
      ]
    },
    {
      "cell_type": "code",
      "metadata": {
        "id": "fReIKxgLsU0_",
        "colab": {
          "base_uri": "https://localhost:8080/"
        },
        "outputId": "eead9684-e9b7-431e-9efd-032b9805e79e"
      },
      "source": [
        "#기울기\n",
        "print(\"기울기(계수):\", lr_clf.coef_)"
      ],
      "execution_count": 18,
      "outputs": [
        {
          "output_type": "stream",
          "name": "stdout",
          "text": [
            "기울기(계수): [[-1.99751386e-01  3.65451311e-01  1.49472420e-01 -1.88027207e-01\n",
            "  -2.28494295e-02  1.95456870e-01  4.66702169e-01 -1.66796937e-02\n",
            "   8.23898772e-02  6.75013601e-02 -1.92622133e-02  2.94916328e-01\n",
            "   7.42521868e-03]\n",
            " [ 5.96476718e-01 -7.88674281e-01 -1.26181715e-01  2.12254366e-01\n",
            "  -1.13503885e-02  3.15786530e-01  3.55148678e-01  3.34676039e-02\n",
            "   2.79036200e-01 -1.17202715e+00  2.61166174e-01  4.64732433e-01\n",
            "  -8.33633942e-03]\n",
            " [-3.96725333e-01  4.23222970e-01 -2.32907053e-02 -2.42271599e-02\n",
            "   3.41998181e-02 -5.11243400e-01 -8.21850846e-01 -1.67879102e-02\n",
            "  -3.61426078e-01  1.10452579e+00 -2.41903960e-01 -7.59648761e-01\n",
            "   9.11120744e-04]]\n"
          ]
        }
      ]
    },
    {
      "cell_type": "code",
      "metadata": {
        "id": "tbWm0jEnsbdJ",
        "colab": {
          "base_uri": "https://localhost:8080/"
        },
        "outputId": "b135d53f-7bb6-4c34-c3a6-fa659d4aa810"
      },
      "source": [
        "#절편\n",
        "print(\"절편:\", lr_clf.intercept_)"
      ],
      "execution_count": 19,
      "outputs": [
        {
          "output_type": "stream",
          "name": "stdout",
          "text": [
            "절편: [-0.04177844  0.09551062 -0.05373218]\n"
          ]
        }
      ]
    },
    {
      "cell_type": "markdown",
      "metadata": {
        "id": "Bq9ocTsystff"
      },
      "source": [
        "3-3) 모델의 정확도를 구하세요."
      ]
    },
    {
      "cell_type": "code",
      "metadata": {
        "id": "nQcUKZyOsy3J",
        "colab": {
          "base_uri": "https://localhost:8080/"
        },
        "outputId": "2b13d2e8-1cdd-461e-df52-b853e491fb50"
      },
      "source": [
        "from sklearn.metrics import accuracy_score\n",
        "\n",
        "#모델의 예측값 구하기\n",
        "lr_preds = lr_clf.predict(x_test)\n",
        "\n",
        "#모델의 정확도 구하기\n",
        "lr_preds_proba = lr_clf.predict_proba(x_test)[:, 1]\n",
        "print('accuracy: {0:.3f}'.format(accuracy_score(y_test, lr_preds)))"
      ],
      "execution_count": 20,
      "outputs": [
        {
          "output_type": "stream",
          "name": "stdout",
          "text": [
            "accuracy: 0.963\n"
          ]
        }
      ]
    }
  ]
}