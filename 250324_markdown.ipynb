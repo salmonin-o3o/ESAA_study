{
  "nbformat": 4,
  "nbformat_minor": 0,
  "metadata": {
    "colab": {
      "provenance": [],
      "authorship_tag": "ABX9TyPmKQ5XLg2YvgqQKlVHpvkL",
      "include_colab_link": true
    },
    "kernelspec": {
      "name": "python3",
      "display_name": "Python 3"
    },
    "language_info": {
      "name": "python"
    }
  },
  "cells": [
    {
      "cell_type": "markdown",
      "metadata": {
        "id": "view-in-github",
        "colab_type": "text"
      },
      "source": [
        "<a href=\"https://colab.research.google.com/github/salmonin-o3o/ESAA_study/blob/main/250324_markdown.ipynb\" target=\"_parent\"><img src=\"https://colab.research.google.com/assets/colab-badge.svg\" alt=\"Open In Colab\"/></a>"
      ]
    },
    {
      "cell_type": "markdown",
      "source": [
        "핸즈온\n",
        "## 9.2 가우시안 혼합\n",
        "가우시안 혼합 모델(GMM)은 샘플이 파라미터가 알려지지 않은 여러 개의 혼합된 가우시안 분포에서 생성되었다고 가정하는 확률 모델이다. 하나의 가우시안 분포에서 생성된 모든 샘플은 하나의 클러스터를 형성하며, 일반적으로 이 클러스터는 타원형이다.\n",
        "\n",
        "여러 GMM 변종이 있다. 가장 간단한 버전이 GaussianMixture 클래스에 구현되어 있다. 여기에서는 사전에 가우시안 분포의 개수 k를 알아야 한다.\n",
        "\n",
        "먼저 데이터셋 X가 주어지면 가중치와 전체 분포의 파라미터를 추정한다. 사이킷런의 GaussianMixture 클래스를 사용하면 아주 쉽다."
      ],
      "metadata": {
        "id": "hVFzAuBcZ_Tm"
      }
    },
    {
      "cell_type": "code",
      "source": [
        "from sklearn.datasets import make_moons\n",
        "\n",
        "X, y = make_moons(n_samples=1000, noise= 0.05)"
      ],
      "metadata": {
        "id": "ypUDs9P5npRj"
      },
      "execution_count": 1,
      "outputs": []
    },
    {
      "cell_type": "code",
      "execution_count": 2,
      "metadata": {
        "colab": {
          "base_uri": "https://localhost:8080/",
          "height": 80
        },
        "id": "6JdeyHamYXvP",
        "outputId": "bcea79bd-1d78-4b89-f9d3-3b5113593486"
      },
      "outputs": [
        {
          "output_type": "execute_result",
          "data": {
            "text/plain": [
              "GaussianMixture(n_components=3, n_init=10)"
            ],
            "text/html": [
              "<style>#sk-container-id-1 {\n",
              "  /* Definition of color scheme common for light and dark mode */\n",
              "  --sklearn-color-text: #000;\n",
              "  --sklearn-color-text-muted: #666;\n",
              "  --sklearn-color-line: gray;\n",
              "  /* Definition of color scheme for unfitted estimators */\n",
              "  --sklearn-color-unfitted-level-0: #fff5e6;\n",
              "  --sklearn-color-unfitted-level-1: #f6e4d2;\n",
              "  --sklearn-color-unfitted-level-2: #ffe0b3;\n",
              "  --sklearn-color-unfitted-level-3: chocolate;\n",
              "  /* Definition of color scheme for fitted estimators */\n",
              "  --sklearn-color-fitted-level-0: #f0f8ff;\n",
              "  --sklearn-color-fitted-level-1: #d4ebff;\n",
              "  --sklearn-color-fitted-level-2: #b3dbfd;\n",
              "  --sklearn-color-fitted-level-3: cornflowerblue;\n",
              "\n",
              "  /* Specific color for light theme */\n",
              "  --sklearn-color-text-on-default-background: var(--sg-text-color, var(--theme-code-foreground, var(--jp-content-font-color1, black)));\n",
              "  --sklearn-color-background: var(--sg-background-color, var(--theme-background, var(--jp-layout-color0, white)));\n",
              "  --sklearn-color-border-box: var(--sg-text-color, var(--theme-code-foreground, var(--jp-content-font-color1, black)));\n",
              "  --sklearn-color-icon: #696969;\n",
              "\n",
              "  @media (prefers-color-scheme: dark) {\n",
              "    /* Redefinition of color scheme for dark theme */\n",
              "    --sklearn-color-text-on-default-background: var(--sg-text-color, var(--theme-code-foreground, var(--jp-content-font-color1, white)));\n",
              "    --sklearn-color-background: var(--sg-background-color, var(--theme-background, var(--jp-layout-color0, #111)));\n",
              "    --sklearn-color-border-box: var(--sg-text-color, var(--theme-code-foreground, var(--jp-content-font-color1, white)));\n",
              "    --sklearn-color-icon: #878787;\n",
              "  }\n",
              "}\n",
              "\n",
              "#sk-container-id-1 {\n",
              "  color: var(--sklearn-color-text);\n",
              "}\n",
              "\n",
              "#sk-container-id-1 pre {\n",
              "  padding: 0;\n",
              "}\n",
              "\n",
              "#sk-container-id-1 input.sk-hidden--visually {\n",
              "  border: 0;\n",
              "  clip: rect(1px 1px 1px 1px);\n",
              "  clip: rect(1px, 1px, 1px, 1px);\n",
              "  height: 1px;\n",
              "  margin: -1px;\n",
              "  overflow: hidden;\n",
              "  padding: 0;\n",
              "  position: absolute;\n",
              "  width: 1px;\n",
              "}\n",
              "\n",
              "#sk-container-id-1 div.sk-dashed-wrapped {\n",
              "  border: 1px dashed var(--sklearn-color-line);\n",
              "  margin: 0 0.4em 0.5em 0.4em;\n",
              "  box-sizing: border-box;\n",
              "  padding-bottom: 0.4em;\n",
              "  background-color: var(--sklearn-color-background);\n",
              "}\n",
              "\n",
              "#sk-container-id-1 div.sk-container {\n",
              "  /* jupyter's `normalize.less` sets `[hidden] { display: none; }`\n",
              "     but bootstrap.min.css set `[hidden] { display: none !important; }`\n",
              "     so we also need the `!important` here to be able to override the\n",
              "     default hidden behavior on the sphinx rendered scikit-learn.org.\n",
              "     See: https://github.com/scikit-learn/scikit-learn/issues/21755 */\n",
              "  display: inline-block !important;\n",
              "  position: relative;\n",
              "}\n",
              "\n",
              "#sk-container-id-1 div.sk-text-repr-fallback {\n",
              "  display: none;\n",
              "}\n",
              "\n",
              "div.sk-parallel-item,\n",
              "div.sk-serial,\n",
              "div.sk-item {\n",
              "  /* draw centered vertical line to link estimators */\n",
              "  background-image: linear-gradient(var(--sklearn-color-text-on-default-background), var(--sklearn-color-text-on-default-background));\n",
              "  background-size: 2px 100%;\n",
              "  background-repeat: no-repeat;\n",
              "  background-position: center center;\n",
              "}\n",
              "\n",
              "/* Parallel-specific style estimator block */\n",
              "\n",
              "#sk-container-id-1 div.sk-parallel-item::after {\n",
              "  content: \"\";\n",
              "  width: 100%;\n",
              "  border-bottom: 2px solid var(--sklearn-color-text-on-default-background);\n",
              "  flex-grow: 1;\n",
              "}\n",
              "\n",
              "#sk-container-id-1 div.sk-parallel {\n",
              "  display: flex;\n",
              "  align-items: stretch;\n",
              "  justify-content: center;\n",
              "  background-color: var(--sklearn-color-background);\n",
              "  position: relative;\n",
              "}\n",
              "\n",
              "#sk-container-id-1 div.sk-parallel-item {\n",
              "  display: flex;\n",
              "  flex-direction: column;\n",
              "}\n",
              "\n",
              "#sk-container-id-1 div.sk-parallel-item:first-child::after {\n",
              "  align-self: flex-end;\n",
              "  width: 50%;\n",
              "}\n",
              "\n",
              "#sk-container-id-1 div.sk-parallel-item:last-child::after {\n",
              "  align-self: flex-start;\n",
              "  width: 50%;\n",
              "}\n",
              "\n",
              "#sk-container-id-1 div.sk-parallel-item:only-child::after {\n",
              "  width: 0;\n",
              "}\n",
              "\n",
              "/* Serial-specific style estimator block */\n",
              "\n",
              "#sk-container-id-1 div.sk-serial {\n",
              "  display: flex;\n",
              "  flex-direction: column;\n",
              "  align-items: center;\n",
              "  background-color: var(--sklearn-color-background);\n",
              "  padding-right: 1em;\n",
              "  padding-left: 1em;\n",
              "}\n",
              "\n",
              "\n",
              "/* Toggleable style: style used for estimator/Pipeline/ColumnTransformer box that is\n",
              "clickable and can be expanded/collapsed.\n",
              "- Pipeline and ColumnTransformer use this feature and define the default style\n",
              "- Estimators will overwrite some part of the style using the `sk-estimator` class\n",
              "*/\n",
              "\n",
              "/* Pipeline and ColumnTransformer style (default) */\n",
              "\n",
              "#sk-container-id-1 div.sk-toggleable {\n",
              "  /* Default theme specific background. It is overwritten whether we have a\n",
              "  specific estimator or a Pipeline/ColumnTransformer */\n",
              "  background-color: var(--sklearn-color-background);\n",
              "}\n",
              "\n",
              "/* Toggleable label */\n",
              "#sk-container-id-1 label.sk-toggleable__label {\n",
              "  cursor: pointer;\n",
              "  display: flex;\n",
              "  width: 100%;\n",
              "  margin-bottom: 0;\n",
              "  padding: 0.5em;\n",
              "  box-sizing: border-box;\n",
              "  text-align: center;\n",
              "  align-items: start;\n",
              "  justify-content: space-between;\n",
              "  gap: 0.5em;\n",
              "}\n",
              "\n",
              "#sk-container-id-1 label.sk-toggleable__label .caption {\n",
              "  font-size: 0.6rem;\n",
              "  font-weight: lighter;\n",
              "  color: var(--sklearn-color-text-muted);\n",
              "}\n",
              "\n",
              "#sk-container-id-1 label.sk-toggleable__label-arrow:before {\n",
              "  /* Arrow on the left of the label */\n",
              "  content: \"▸\";\n",
              "  float: left;\n",
              "  margin-right: 0.25em;\n",
              "  color: var(--sklearn-color-icon);\n",
              "}\n",
              "\n",
              "#sk-container-id-1 label.sk-toggleable__label-arrow:hover:before {\n",
              "  color: var(--sklearn-color-text);\n",
              "}\n",
              "\n",
              "/* Toggleable content - dropdown */\n",
              "\n",
              "#sk-container-id-1 div.sk-toggleable__content {\n",
              "  max-height: 0;\n",
              "  max-width: 0;\n",
              "  overflow: hidden;\n",
              "  text-align: left;\n",
              "  /* unfitted */\n",
              "  background-color: var(--sklearn-color-unfitted-level-0);\n",
              "}\n",
              "\n",
              "#sk-container-id-1 div.sk-toggleable__content.fitted {\n",
              "  /* fitted */\n",
              "  background-color: var(--sklearn-color-fitted-level-0);\n",
              "}\n",
              "\n",
              "#sk-container-id-1 div.sk-toggleable__content pre {\n",
              "  margin: 0.2em;\n",
              "  border-radius: 0.25em;\n",
              "  color: var(--sklearn-color-text);\n",
              "  /* unfitted */\n",
              "  background-color: var(--sklearn-color-unfitted-level-0);\n",
              "}\n",
              "\n",
              "#sk-container-id-1 div.sk-toggleable__content.fitted pre {\n",
              "  /* unfitted */\n",
              "  background-color: var(--sklearn-color-fitted-level-0);\n",
              "}\n",
              "\n",
              "#sk-container-id-1 input.sk-toggleable__control:checked~div.sk-toggleable__content {\n",
              "  /* Expand drop-down */\n",
              "  max-height: 200px;\n",
              "  max-width: 100%;\n",
              "  overflow: auto;\n",
              "}\n",
              "\n",
              "#sk-container-id-1 input.sk-toggleable__control:checked~label.sk-toggleable__label-arrow:before {\n",
              "  content: \"▾\";\n",
              "}\n",
              "\n",
              "/* Pipeline/ColumnTransformer-specific style */\n",
              "\n",
              "#sk-container-id-1 div.sk-label input.sk-toggleable__control:checked~label.sk-toggleable__label {\n",
              "  color: var(--sklearn-color-text);\n",
              "  background-color: var(--sklearn-color-unfitted-level-2);\n",
              "}\n",
              "\n",
              "#sk-container-id-1 div.sk-label.fitted input.sk-toggleable__control:checked~label.sk-toggleable__label {\n",
              "  background-color: var(--sklearn-color-fitted-level-2);\n",
              "}\n",
              "\n",
              "/* Estimator-specific style */\n",
              "\n",
              "/* Colorize estimator box */\n",
              "#sk-container-id-1 div.sk-estimator input.sk-toggleable__control:checked~label.sk-toggleable__label {\n",
              "  /* unfitted */\n",
              "  background-color: var(--sklearn-color-unfitted-level-2);\n",
              "}\n",
              "\n",
              "#sk-container-id-1 div.sk-estimator.fitted input.sk-toggleable__control:checked~label.sk-toggleable__label {\n",
              "  /* fitted */\n",
              "  background-color: var(--sklearn-color-fitted-level-2);\n",
              "}\n",
              "\n",
              "#sk-container-id-1 div.sk-label label.sk-toggleable__label,\n",
              "#sk-container-id-1 div.sk-label label {\n",
              "  /* The background is the default theme color */\n",
              "  color: var(--sklearn-color-text-on-default-background);\n",
              "}\n",
              "\n",
              "/* On hover, darken the color of the background */\n",
              "#sk-container-id-1 div.sk-label:hover label.sk-toggleable__label {\n",
              "  color: var(--sklearn-color-text);\n",
              "  background-color: var(--sklearn-color-unfitted-level-2);\n",
              "}\n",
              "\n",
              "/* Label box, darken color on hover, fitted */\n",
              "#sk-container-id-1 div.sk-label.fitted:hover label.sk-toggleable__label.fitted {\n",
              "  color: var(--sklearn-color-text);\n",
              "  background-color: var(--sklearn-color-fitted-level-2);\n",
              "}\n",
              "\n",
              "/* Estimator label */\n",
              "\n",
              "#sk-container-id-1 div.sk-label label {\n",
              "  font-family: monospace;\n",
              "  font-weight: bold;\n",
              "  display: inline-block;\n",
              "  line-height: 1.2em;\n",
              "}\n",
              "\n",
              "#sk-container-id-1 div.sk-label-container {\n",
              "  text-align: center;\n",
              "}\n",
              "\n",
              "/* Estimator-specific */\n",
              "#sk-container-id-1 div.sk-estimator {\n",
              "  font-family: monospace;\n",
              "  border: 1px dotted var(--sklearn-color-border-box);\n",
              "  border-radius: 0.25em;\n",
              "  box-sizing: border-box;\n",
              "  margin-bottom: 0.5em;\n",
              "  /* unfitted */\n",
              "  background-color: var(--sklearn-color-unfitted-level-0);\n",
              "}\n",
              "\n",
              "#sk-container-id-1 div.sk-estimator.fitted {\n",
              "  /* fitted */\n",
              "  background-color: var(--sklearn-color-fitted-level-0);\n",
              "}\n",
              "\n",
              "/* on hover */\n",
              "#sk-container-id-1 div.sk-estimator:hover {\n",
              "  /* unfitted */\n",
              "  background-color: var(--sklearn-color-unfitted-level-2);\n",
              "}\n",
              "\n",
              "#sk-container-id-1 div.sk-estimator.fitted:hover {\n",
              "  /* fitted */\n",
              "  background-color: var(--sklearn-color-fitted-level-2);\n",
              "}\n",
              "\n",
              "/* Specification for estimator info (e.g. \"i\" and \"?\") */\n",
              "\n",
              "/* Common style for \"i\" and \"?\" */\n",
              "\n",
              ".sk-estimator-doc-link,\n",
              "a:link.sk-estimator-doc-link,\n",
              "a:visited.sk-estimator-doc-link {\n",
              "  float: right;\n",
              "  font-size: smaller;\n",
              "  line-height: 1em;\n",
              "  font-family: monospace;\n",
              "  background-color: var(--sklearn-color-background);\n",
              "  border-radius: 1em;\n",
              "  height: 1em;\n",
              "  width: 1em;\n",
              "  text-decoration: none !important;\n",
              "  margin-left: 0.5em;\n",
              "  text-align: center;\n",
              "  /* unfitted */\n",
              "  border: var(--sklearn-color-unfitted-level-1) 1pt solid;\n",
              "  color: var(--sklearn-color-unfitted-level-1);\n",
              "}\n",
              "\n",
              ".sk-estimator-doc-link.fitted,\n",
              "a:link.sk-estimator-doc-link.fitted,\n",
              "a:visited.sk-estimator-doc-link.fitted {\n",
              "  /* fitted */\n",
              "  border: var(--sklearn-color-fitted-level-1) 1pt solid;\n",
              "  color: var(--sklearn-color-fitted-level-1);\n",
              "}\n",
              "\n",
              "/* On hover */\n",
              "div.sk-estimator:hover .sk-estimator-doc-link:hover,\n",
              ".sk-estimator-doc-link:hover,\n",
              "div.sk-label-container:hover .sk-estimator-doc-link:hover,\n",
              ".sk-estimator-doc-link:hover {\n",
              "  /* unfitted */\n",
              "  background-color: var(--sklearn-color-unfitted-level-3);\n",
              "  color: var(--sklearn-color-background);\n",
              "  text-decoration: none;\n",
              "}\n",
              "\n",
              "div.sk-estimator.fitted:hover .sk-estimator-doc-link.fitted:hover,\n",
              ".sk-estimator-doc-link.fitted:hover,\n",
              "div.sk-label-container:hover .sk-estimator-doc-link.fitted:hover,\n",
              ".sk-estimator-doc-link.fitted:hover {\n",
              "  /* fitted */\n",
              "  background-color: var(--sklearn-color-fitted-level-3);\n",
              "  color: var(--sklearn-color-background);\n",
              "  text-decoration: none;\n",
              "}\n",
              "\n",
              "/* Span, style for the box shown on hovering the info icon */\n",
              ".sk-estimator-doc-link span {\n",
              "  display: none;\n",
              "  z-index: 9999;\n",
              "  position: relative;\n",
              "  font-weight: normal;\n",
              "  right: .2ex;\n",
              "  padding: .5ex;\n",
              "  margin: .5ex;\n",
              "  width: min-content;\n",
              "  min-width: 20ex;\n",
              "  max-width: 50ex;\n",
              "  color: var(--sklearn-color-text);\n",
              "  box-shadow: 2pt 2pt 4pt #999;\n",
              "  /* unfitted */\n",
              "  background: var(--sklearn-color-unfitted-level-0);\n",
              "  border: .5pt solid var(--sklearn-color-unfitted-level-3);\n",
              "}\n",
              "\n",
              ".sk-estimator-doc-link.fitted span {\n",
              "  /* fitted */\n",
              "  background: var(--sklearn-color-fitted-level-0);\n",
              "  border: var(--sklearn-color-fitted-level-3);\n",
              "}\n",
              "\n",
              ".sk-estimator-doc-link:hover span {\n",
              "  display: block;\n",
              "}\n",
              "\n",
              "/* \"?\"-specific style due to the `<a>` HTML tag */\n",
              "\n",
              "#sk-container-id-1 a.estimator_doc_link {\n",
              "  float: right;\n",
              "  font-size: 1rem;\n",
              "  line-height: 1em;\n",
              "  font-family: monospace;\n",
              "  background-color: var(--sklearn-color-background);\n",
              "  border-radius: 1rem;\n",
              "  height: 1rem;\n",
              "  width: 1rem;\n",
              "  text-decoration: none;\n",
              "  /* unfitted */\n",
              "  color: var(--sklearn-color-unfitted-level-1);\n",
              "  border: var(--sklearn-color-unfitted-level-1) 1pt solid;\n",
              "}\n",
              "\n",
              "#sk-container-id-1 a.estimator_doc_link.fitted {\n",
              "  /* fitted */\n",
              "  border: var(--sklearn-color-fitted-level-1) 1pt solid;\n",
              "  color: var(--sklearn-color-fitted-level-1);\n",
              "}\n",
              "\n",
              "/* On hover */\n",
              "#sk-container-id-1 a.estimator_doc_link:hover {\n",
              "  /* unfitted */\n",
              "  background-color: var(--sklearn-color-unfitted-level-3);\n",
              "  color: var(--sklearn-color-background);\n",
              "  text-decoration: none;\n",
              "}\n",
              "\n",
              "#sk-container-id-1 a.estimator_doc_link.fitted:hover {\n",
              "  /* fitted */\n",
              "  background-color: var(--sklearn-color-fitted-level-3);\n",
              "}\n",
              "</style><div id=\"sk-container-id-1\" class=\"sk-top-container\"><div class=\"sk-text-repr-fallback\"><pre>GaussianMixture(n_components=3, n_init=10)</pre><b>In a Jupyter environment, please rerun this cell to show the HTML representation or trust the notebook. <br />On GitHub, the HTML representation is unable to render, please try loading this page with nbviewer.org.</b></div><div class=\"sk-container\" hidden><div class=\"sk-item\"><div class=\"sk-estimator fitted sk-toggleable\"><input class=\"sk-toggleable__control sk-hidden--visually\" id=\"sk-estimator-id-1\" type=\"checkbox\" checked><label for=\"sk-estimator-id-1\" class=\"sk-toggleable__label fitted sk-toggleable__label-arrow\"><div><div>GaussianMixture</div></div><div><a class=\"sk-estimator-doc-link fitted\" rel=\"noreferrer\" target=\"_blank\" href=\"https://scikit-learn.org/1.6/modules/generated/sklearn.mixture.GaussianMixture.html\">?<span>Documentation for GaussianMixture</span></a><span class=\"sk-estimator-doc-link fitted\">i<span>Fitted</span></span></div></label><div class=\"sk-toggleable__content fitted\"><pre>GaussianMixture(n_components=3, n_init=10)</pre></div> </div></div></div></div>"
            ]
          },
          "metadata": {},
          "execution_count": 2
        }
      ],
      "source": [
        "from sklearn.mixture import GaussianMixture\n",
        "\n",
        "gm = GaussianMixture(n_components=3, n_init=10)\n",
        "gm.fit(X)"
      ]
    },
    {
      "cell_type": "code",
      "source": [
        "# 파라미터 확인\n",
        "gm.weights_"
      ],
      "metadata": {
        "colab": {
          "base_uri": "https://localhost:8080/"
        },
        "id": "JEILvSrvbpdm",
        "outputId": "b95cc968-883a-4f44-fdcf-4fd5dcae69e3"
      },
      "execution_count": 3,
      "outputs": [
        {
          "output_type": "execute_result",
          "data": {
            "text/plain": [
              "array([0.59426052, 0.20081036, 0.20492912])"
            ]
          },
          "metadata": {},
          "execution_count": 3
        }
      ]
    },
    {
      "cell_type": "code",
      "source": [
        "gm.means_"
      ],
      "metadata": {
        "colab": {
          "base_uri": "https://localhost:8080/"
        },
        "id": "afEDYyTzb-9u",
        "outputId": "9f6443a9-bd4f-4bb4-fa30-6726ae1a54c0"
      },
      "execution_count": 4,
      "outputs": [
        {
          "output_type": "execute_result",
          "data": {
            "text/plain": [
              "array([[ 0.49329066,  0.25381583],\n",
              "       [-0.75253784,  0.55059118],\n",
              "       [ 1.73770181, -0.05850789]])"
            ]
          },
          "metadata": {},
          "execution_count": 4
        }
      ]
    },
    {
      "cell_type": "code",
      "source": [
        "gm.covariances_"
      ],
      "metadata": {
        "colab": {
          "base_uri": "https://localhost:8080/"
        },
        "id": "MK2fBJXccAnz",
        "outputId": "4d0203ce-e934-4640-97cb-523928a376f5"
      },
      "execution_count": 5,
      "outputs": [
        {
          "output_type": "execute_result",
          "data": {
            "text/plain": [
              "array([[[ 0.16857436, -0.10392462],\n",
              "        [-0.10392462,  0.29232143]],\n",
              "\n",
              "       [[ 0.04867727,  0.05890034],\n",
              "        [ 0.05890034,  0.08808797]],\n",
              "\n",
              "       [[ 0.0521202 ,  0.06080262],\n",
              "        [ 0.06080262,  0.08511239]]])"
            ]
          },
          "metadata": {},
          "execution_count": 5
        }
      ]
    },
    {
      "cell_type": "markdown",
      "source": [
        "이 클래스는 기댓값-최대화 알고리즘을 사용한다. 이 알고리즘은 k-평균 알고리즘과 비슷하게, 샘플을 클러스터에 할당하고(기댓값 단계), 클러스터를 업데이트하는(최대화 단계)를 수렵할 때까지 반복한다. 대신 EM은 하드 클러스터 할당이 아니라 소프트 클러스터 할당을 사용한다.\n",
        "\n",
        "알고리즘이 수렴했는지 여부와 반복 횟수를 확인할 수 있다."
      ],
      "metadata": {
        "id": "qsP5gRzwdLet"
      }
    },
    {
      "cell_type": "code",
      "source": [
        "gm.converged_"
      ],
      "metadata": {
        "colab": {
          "base_uri": "https://localhost:8080/"
        },
        "id": "g2ZTyrh6mX53",
        "outputId": "286b640b-fb92-4da7-e920-52c349895207"
      },
      "execution_count": 6,
      "outputs": [
        {
          "output_type": "execute_result",
          "data": {
            "text/plain": [
              "True"
            ]
          },
          "metadata": {},
          "execution_count": 6
        }
      ]
    },
    {
      "cell_type": "code",
      "source": [
        "gm.n_iter_"
      ],
      "metadata": {
        "colab": {
          "base_uri": "https://localhost:8080/"
        },
        "id": "PhZ8e0V8mc3a",
        "outputId": "95960880-adb7-49fc-ff2c-1dd3c9c553f3"
      },
      "execution_count": 7,
      "outputs": [
        {
          "output_type": "execute_result",
          "data": {
            "text/plain": [
              "17"
            ]
          },
          "metadata": {},
          "execution_count": 7
        }
      ]
    },
    {
      "cell_type": "markdown",
      "source": [
        "이제 각 클러스터를 예측했으므로, 새로운 샘플을 할당할 수 있고(하드 군집), 특정 클러스터에 속할 확률도 예측할 수 있다(소프트 군집). 하드 군집을 위해서는 predict(), 소프트 군집을 위해서는 predict_proba()를 사용한다."
      ],
      "metadata": {
        "id": "rll7jpR5nH23"
      }
    },
    {
      "cell_type": "code",
      "source": [
        "gm.predict(X)"
      ],
      "metadata": {
        "colab": {
          "base_uri": "https://localhost:8080/"
        },
        "id": "64cVsKCNnb1Y",
        "outputId": "01ac2622-9c29-49d6-a99c-e22a1203fc5b"
      },
      "execution_count": 8,
      "outputs": [
        {
          "output_type": "execute_result",
          "data": {
            "text/plain": [
              "array([2, 0, 0, 2, 0, 0, 0, 2, 0, 1, 0, 0, 0, 0, 2, 2, 2, 0, 0, 0, 0, 1,\n",
              "       0, 0, 2, 1, 0, 0, 2, 0, 2, 0, 1, 1, 0, 1, 0, 1, 1, 0, 1, 1, 0, 2,\n",
              "       2, 0, 1, 0, 0, 1, 2, 0, 0, 1, 0, 0, 1, 1, 2, 2, 1, 0, 0, 2, 2, 0,\n",
              "       2, 0, 2, 0, 0, 0, 0, 0, 0, 0, 0, 0, 0, 2, 1, 2, 1, 0, 0, 0, 1, 0,\n",
              "       0, 2, 2, 0, 1, 0, 1, 0, 0, 0, 0, 0, 0, 0, 0, 0, 2, 0, 0, 0, 0, 0,\n",
              "       0, 2, 0, 2, 2, 1, 0, 0, 1, 0, 1, 2, 0, 0, 2, 0, 2, 1, 1, 1, 1, 0,\n",
              "       1, 0, 2, 0, 0, 0, 0, 0, 2, 1, 2, 0, 0, 0, 0, 2, 0, 2, 0, 2, 0, 0,\n",
              "       0, 2, 0, 2, 1, 0, 0, 1, 1, 0, 1, 0, 0, 2, 0, 0, 0, 0, 2, 2, 1, 0,\n",
              "       1, 0, 0, 1, 1, 1, 0, 0, 1, 1, 0, 0, 0, 2, 1, 2, 2, 0, 0, 0, 1, 0,\n",
              "       0, 1, 0, 1, 1, 1, 0, 1, 0, 0, 2, 0, 1, 0, 0, 2, 0, 0, 0, 0, 0, 0,\n",
              "       0, 0, 2, 0, 2, 1, 1, 0, 0, 0, 2, 0, 0, 1, 2, 0, 0, 2, 0, 0, 0, 0,\n",
              "       0, 2, 0, 1, 1, 0, 0, 0, 0, 0, 2, 2, 0, 2, 2, 0, 0, 1, 0, 1, 0, 0,\n",
              "       2, 0, 0, 1, 0, 0, 0, 1, 1, 0, 2, 1, 2, 0, 0, 0, 0, 2, 1, 0, 1, 1,\n",
              "       0, 2, 0, 2, 0, 0, 1, 0, 0, 2, 1, 0, 0, 0, 0, 0, 0, 1, 1, 1, 0, 0,\n",
              "       0, 0, 1, 0, 0, 2, 0, 0, 2, 0, 1, 0, 0, 1, 0, 2, 0, 2, 1, 2, 1, 1,\n",
              "       0, 0, 0, 0, 1, 0, 0, 2, 0, 1, 0, 0, 1, 1, 1, 0, 0, 0, 0, 0, 0, 0,\n",
              "       2, 0, 0, 2, 0, 1, 1, 0, 2, 0, 2, 2, 0, 1, 0, 0, 0, 2, 0, 1, 2, 2,\n",
              "       0, 0, 0, 1, 0, 0, 1, 0, 0, 0, 0, 2, 0, 0, 2, 0, 2, 0, 0, 1, 0, 1,\n",
              "       0, 0, 0, 0, 2, 1, 0, 2, 0, 1, 2, 0, 0, 2, 0, 0, 0, 1, 0, 0, 0, 1,\n",
              "       1, 1, 0, 1, 0, 2, 0, 0, 0, 0, 2, 0, 0, 0, 0, 0, 2, 2, 2, 0, 2, 0,\n",
              "       1, 1, 0, 0, 2, 0, 1, 2, 1, 1, 0, 0, 0, 0, 1, 0, 0, 1, 0, 1, 2, 1,\n",
              "       0, 0, 1, 0, 1, 0, 1, 0, 0, 2, 0, 0, 0, 0, 0, 1, 1, 1, 2, 0, 2, 0,\n",
              "       2, 2, 0, 0, 0, 2, 0, 1, 0, 0, 1, 2, 1, 2, 0, 0, 2, 2, 0, 0, 2, 0,\n",
              "       0, 0, 0, 0, 1, 0, 0, 2, 0, 0, 2, 1, 0, 0, 0, 0, 0, 2, 2, 1, 2, 0,\n",
              "       2, 0, 1, 1, 0, 0, 0, 0, 2, 0, 1, 0, 2, 1, 0, 0, 0, 0, 2, 0, 0, 0,\n",
              "       0, 0, 0, 0, 2, 0, 0, 0, 0, 1, 2, 1, 2, 2, 0, 0, 2, 0, 2, 0, 0, 2,\n",
              "       0, 0, 1, 0, 0, 0, 0, 1, 1, 2, 1, 0, 0, 2, 0, 0, 1, 1, 0, 0, 0, 0,\n",
              "       1, 0, 0, 0, 0, 0, 2, 0, 0, 0, 2, 1, 2, 2, 0, 0, 2, 0, 1, 2, 0, 0,\n",
              "       0, 2, 0, 0, 0, 0, 0, 0, 2, 0, 0, 1, 2, 0, 0, 0, 2, 1, 0, 0, 2, 0,\n",
              "       0, 2, 1, 0, 0, 1, 1, 2, 0, 0, 1, 0, 0, 2, 0, 0, 0, 0, 1, 0, 0, 0,\n",
              "       0, 0, 0, 1, 0, 1, 2, 2, 0, 0, 0, 0, 1, 2, 0, 0, 1, 1, 0, 0, 0, 2,\n",
              "       0, 1, 2, 1, 0, 0, 2, 0, 2, 0, 2, 0, 1, 1, 2, 0, 2, 0, 0, 0, 1, 0,\n",
              "       0, 2, 1, 0, 0, 0, 2, 0, 1, 2, 1, 0, 2, 0, 2, 0, 0, 0, 1, 0, 0, 0,\n",
              "       0, 1, 1, 0, 2, 2, 2, 2, 0, 1, 0, 0, 0, 0, 0, 0, 1, 0, 1, 2, 1, 2,\n",
              "       0, 1, 1, 0, 0, 1, 0, 1, 0, 0, 0, 0, 0, 0, 2, 0, 0, 0, 0, 1, 0, 0,\n",
              "       2, 0, 1, 2, 0, 0, 2, 0, 0, 0, 1, 1, 0, 2, 2, 1, 0, 0, 0, 0, 2, 0,\n",
              "       2, 1, 0, 2, 0, 2, 0, 0, 1, 2, 0, 0, 1, 0, 1, 0, 2, 0, 2, 0, 2, 0,\n",
              "       0, 2, 0, 1, 0, 0, 0, 0, 0, 1, 0, 0, 2, 0, 0, 0, 0, 0, 2, 1, 2, 0,\n",
              "       2, 0, 0, 0, 1, 0, 1, 0, 0, 2, 0, 0, 0, 1, 0, 2, 0, 2, 2, 0, 1, 0,\n",
              "       0, 2, 0, 0, 0, 0, 0, 0, 2, 0, 0, 1, 1, 2, 0, 0, 1, 0, 0, 0, 1, 0,\n",
              "       2, 1, 2, 0, 1, 0, 2, 0, 1, 2, 1, 0, 2, 0, 0, 0, 0, 1, 1, 0, 2, 1,\n",
              "       0, 0, 0, 0, 0, 2, 0, 2, 0, 0, 2, 1, 0, 0, 0, 0, 0, 1, 0, 0, 0, 0,\n",
              "       0, 2, 2, 0, 2, 0, 0, 0, 0, 0, 0, 0, 0, 0, 2, 1, 1, 2, 1, 1, 1, 2,\n",
              "       0, 1, 0, 0, 2, 0, 0, 2, 2, 0, 0, 0, 0, 0, 1, 1, 0, 0, 0, 2, 0, 1,\n",
              "       0, 0, 0, 2, 0, 2, 0, 0, 0, 0, 0, 0, 1, 1, 1, 1, 0, 0, 0, 0, 0, 0,\n",
              "       1, 0, 0, 2, 0, 0, 0, 2, 2, 0])"
            ]
          },
          "metadata": {},
          "execution_count": 8
        }
      ]
    },
    {
      "cell_type": "code",
      "source": [
        "gm.predict_proba(X)"
      ],
      "metadata": {
        "colab": {
          "base_uri": "https://localhost:8080/"
        },
        "id": "V3pYlODAneWU",
        "outputId": "251d5de2-3c62-4a72-a173-f36cd18189a6"
      },
      "execution_count": 9,
      "outputs": [
        {
          "output_type": "execute_result",
          "data": {
            "text/plain": [
              "array([[3.96123132e-001, 7.39547923e-180, 6.03876868e-001],\n",
              "       [1.00000000e+000, 5.36728770e-071, 4.61309078e-035],\n",
              "       [9.99999987e-001, 1.32982921e-008, 3.96893147e-142],\n",
              "       ...,\n",
              "       [4.85346125e-004, 1.55526054e-192, 9.99514654e-001],\n",
              "       [9.46351760e-004, 4.58105044e-175, 9.99053648e-001],\n",
              "       [1.00000000e+000, 9.44146493e-025, 7.05734611e-089]])"
            ]
          },
          "metadata": {},
          "execution_count": 9
        }
      ]
    },
    {
      "cell_type": "markdown",
      "source": [
        "가우시안 혼합 모델은 생성 모델이기 때문에 이 모델에서 새로운 샘플을 만들 수 있따."
      ],
      "metadata": {
        "id": "YNWFnbQ1u3N2"
      }
    },
    {
      "cell_type": "code",
      "source": [
        "X_new, y_new = gm.sample(6)\n",
        "X_new"
      ],
      "metadata": {
        "colab": {
          "base_uri": "https://localhost:8080/"
        },
        "id": "gInC1nXBu76c",
        "outputId": "55c3c134-af71-4ff5-bdc5-b06853e3ae31"
      },
      "execution_count": 10,
      "outputs": [
        {
          "output_type": "execute_result",
          "data": {
            "text/plain": [
              "array([[-0.2200422 ,  0.65487595],\n",
              "       [ 0.39905965,  0.11924233],\n",
              "       [ 0.44379807, -0.3969634 ],\n",
              "       [ 0.97889582, -0.24882888],\n",
              "       [ 0.67226015,  1.21137562],\n",
              "       [-1.01166803,  0.27937993]])"
            ]
          },
          "metadata": {},
          "execution_count": 10
        }
      ]
    },
    {
      "cell_type": "code",
      "source": [
        "y_new"
      ],
      "metadata": {
        "colab": {
          "base_uri": "https://localhost:8080/"
        },
        "id": "Ul7ABO-5vBA7",
        "outputId": "b523e3b8-fa2a-4c0f-efbb-9197662f695e"
      },
      "execution_count": 11,
      "outputs": [
        {
          "output_type": "execute_result",
          "data": {
            "text/plain": [
              "array([0, 0, 0, 0, 0, 1])"
            ]
          },
          "metadata": {},
          "execution_count": 11
        }
      ]
    },
    {
      "cell_type": "markdown",
      "source": [
        "또한 score_samples()는 샘플이 주어지면 주어진 위치ㅔ서의 pdf의 로그를 예측한다. 점수가 높을수록 밀도가 높다."
      ],
      "metadata": {
        "id": "lW0fzoavvEZv"
      }
    },
    {
      "cell_type": "code",
      "source": [
        "gm.score_samples(X)"
      ],
      "metadata": {
        "colab": {
          "base_uri": "https://localhost:8080/"
        },
        "id": "TPOu_vpWxHCz",
        "outputId": "0b3c0a8d-3020-4b97-eff7-8c81ff34bb12"
      },
      "execution_count": 12,
      "outputs": [
        {
          "output_type": "execute_result",
          "data": {
            "text/plain": [
              "array([-1.77170282e+00, -1.38369139e+00, -1.80968669e+00, -1.44387998e+00,\n",
              "       -1.52818955e+00, -1.58794176e+00, -1.99305965e+00, -1.53298491e-01,\n",
              "       -1.65034674e+00, -1.90376561e+00, -1.51378981e+00, -1.42400742e+00,\n",
              "       -1.85405237e+00, -1.63561620e+00, -1.32319550e+00, -7.22860716e-01,\n",
              "       -1.24163744e+00, -2.25215821e+00, -1.50035716e+00, -2.05866609e+00,\n",
              "       -1.37986450e+00,  5.72773200e-02, -1.37110899e+00, -1.61825056e+00,\n",
              "       -6.74992728e-01, -3.68639390e+00, -1.28344075e+00, -2.13398984e+00,\n",
              "       -1.96046011e+00, -1.65423445e+00, -5.86424503e-01, -1.66127710e+00,\n",
              "       -2.25094092e+00, -2.89078742e-01, -1.38442914e+00, -5.44399438e-01,\n",
              "       -1.51130933e+00, -2.17028434e+00, -6.82783757e-01, -1.56846305e+00,\n",
              "       -1.70025501e+00, -4.92716488e-01, -1.48974424e+00, -1.59167281e+00,\n",
              "       -3.51734585e-01, -1.45311136e+00, -1.66366034e+00, -1.47047437e+00,\n",
              "       -1.51212670e+00, -2.61266384e-01, -3.16546856e+00, -1.80852136e+00,\n",
              "       -1.65318232e+00, -3.74355766e-01, -1.68134500e+00, -1.49604008e+00,\n",
              "       -4.88753741e-01, -1.13453813e+00, -4.04895162e-01, -1.68630479e+00,\n",
              "       -1.34729798e+00, -1.71406243e+00, -1.48317933e+00, -8.98939065e-01,\n",
              "       -2.33487739e+00, -1.55664030e+00, -1.16870562e+00, -1.41285194e+00,\n",
              "       -2.94057871e-01, -1.56620438e+00, -1.42604467e+00, -1.64088772e+00,\n",
              "       -1.46256019e+00, -1.52931976e+00, -1.94407005e+00, -1.53486477e+00,\n",
              "       -1.49565176e+00, -1.45314439e+00, -1.61854614e+00, -4.09090305e-01,\n",
              "       -5.79520852e-02, -7.68408916e-01, -2.98191774e+00, -1.67568097e+00,\n",
              "       -1.53942189e+00, -2.18505833e+00, -1.58553225e+00, -2.18387849e+00,\n",
              "       -1.88226145e+00, -7.19658617e-01, -9.44147406e-01, -1.71661952e+00,\n",
              "       -1.14633431e+00, -1.39121274e+00, -4.32986081e-01, -1.77786408e+00,\n",
              "       -1.64123323e+00, -1.31103379e+00, -1.49346708e+00, -1.53627979e+00,\n",
              "       -1.63966311e+00, -1.57846456e+00, -1.78113833e+00, -1.74515632e+00,\n",
              "       -1.80975860e+00, -1.44382249e+00, -1.42554426e+00, -1.87880700e+00,\n",
              "       -2.16063707e+00, -1.54073847e+00, -1.35146629e+00, -2.19763822e-01,\n",
              "       -2.21705772e+00,  1.00682493e-03, -2.20534303e+00, -9.60943379e-01,\n",
              "       -1.64646062e+00, -1.50577783e+00, -1.39955475e+00, -1.73810451e+00,\n",
              "       -2.39749034e-01, -6.20533454e-01, -1.68276843e+00, -1.62915732e+00,\n",
              "       -1.42294230e-01, -1.25984664e+00, -1.48598335e+00,  9.20972123e-02,\n",
              "       -1.58593120e+00, -7.11652311e-01, -6.90679236e-01, -1.49522027e+00,\n",
              "       -2.17763953e-01, -1.74495289e+00, -1.76718578e+00, -1.52307379e+00,\n",
              "       -1.62609979e+00, -1.25450674e+00, -1.44816860e+00, -1.85554031e+00,\n",
              "       -1.28128032e+00, -7.16123884e-01, -6.79637988e-01, -1.61306842e+00,\n",
              "       -1.49961059e+00, -1.81480917e+00, -1.58396915e+00, -1.72012728e-01,\n",
              "       -1.54464664e+00, -5.83679327e-01, -1.54972334e+00, -3.05478451e-01,\n",
              "       -1.76937215e+00, -1.79558619e+00, -1.65482991e+00, -1.93029301e-01,\n",
              "       -1.39832827e+00,  1.54974997e-01, -4.12183251e+00, -1.43724793e+00,\n",
              "       -1.52658406e+00, -3.38928944e-01, -4.90569019e-01, -2.08148193e+00,\n",
              "       -3.75827357e-01, -1.83464132e+00, -1.73075822e+00, -5.37433528e-01,\n",
              "       -1.71262495e+00, -1.71203351e+00, -1.48542689e+00, -1.42477229e+00,\n",
              "       -1.21545451e+00, -6.11811367e-01, -7.88468283e-02, -1.76130370e+00,\n",
              "        3.33073809e-03, -1.56572517e+00, -1.42717657e+00, -1.82336514e-01,\n",
              "       -8.75521763e-01, -5.75132761e-01, -1.45319295e+00, -1.75089137e+00,\n",
              "       -8.23234977e-01, -7.44218187e-01, -2.19374859e+00, -1.77534944e+00,\n",
              "       -1.61716853e+00,  7.99282318e-02, -4.96971973e-01, -1.54419788e+00,\n",
              "       -3.59107747e-01, -1.67510148e+00, -1.10226305e+00, -1.72654061e+00,\n",
              "       -1.52840276e+00, -1.27285135e+00, -1.57336487e+00,  1.00091729e-01,\n",
              "       -1.66109128e+00, -1.29046275e+00, -2.62772464e-01, -2.01651382e+00,\n",
              "       -1.86507095e+00, -3.14303753e-01, -1.75003881e+00, -1.61764385e+00,\n",
              "       -1.06718472e+00, -1.41033595e+00, -8.43282383e-01, -1.95487573e+00,\n",
              "       -1.36695376e+00, -1.87791875e-01, -2.32118938e+00, -2.25038106e+00,\n",
              "       -1.66512049e+00, -1.61108864e+00, -1.16696404e+00, -1.77605213e+00,\n",
              "       -1.70386873e+00, -1.65002888e+00, -4.55347162e-01, -1.51140458e+00,\n",
              "       -2.50182937e-01, -9.17600160e-01, -1.73279901e+00, -1.74507521e+00,\n",
              "       -1.54397405e+00, -1.38864078e+00, -5.99537202e-01, -2.26590753e+00,\n",
              "       -1.45298924e+00, -1.78524926e+00, -7.72304148e-02, -1.78735164e+00,\n",
              "       -1.55107781e+00, -3.16204206e-01, -1.62566490e+00, -1.71679871e+00,\n",
              "       -1.91520029e+00, -1.57150907e+00, -1.72927439e+00, -1.86517701e-01,\n",
              "       -1.47622132e+00, -5.99994482e-01, -3.80985351e-01, -1.97134174e+00,\n",
              "       -2.07684358e+00, -1.77755070e+00, -1.75680500e+00, -1.72290115e+00,\n",
              "       -1.09050386e+00, -7.44145351e-01, -1.66593913e+00, -3.36516823e+00,\n",
              "        7.79049836e-02, -2.23272659e+00, -1.88558895e+00, -8.64415436e-01,\n",
              "       -1.90920118e+00, -5.52549823e-01, -2.23756308e+00, -1.60032774e+00,\n",
              "       -1.26418332e-04, -1.77082030e+00, -1.73508577e+00, -1.79243405e+00,\n",
              "       -1.94650840e+00, -1.96721175e+00, -2.06420717e+00, -1.85960647e+00,\n",
              "       -1.61730820e-01, -1.67191339e+00, -8.84692007e-01, -5.68884471e-01,\n",
              "       -8.34730695e-01, -1.54454909e+00, -1.41160705e+00, -1.54338111e+00,\n",
              "       -1.72956869e+00, -7.27091912e-01, -1.51055877e+00, -2.03478519e+00,\n",
              "       -5.66907404e-01, -8.67127711e-02, -1.43393500e+00, -2.30634620e-01,\n",
              "       -1.71439457e+00, -3.60402869e+00, -1.72432598e+00, -2.23667778e+00,\n",
              "       -1.46872175e+00, -1.96684232e+00, -1.56003032e+00, -3.68645797e-01,\n",
              "       -4.44362754e-02, -1.57587438e+00, -1.66692310e+00, -1.64070520e+00,\n",
              "       -1.70136410e+00, -2.10297944e+00, -1.61274512e+00, -7.23543916e-01,\n",
              "       -2.02387399e-02, -2.17979635e-01, -1.56957712e+00, -2.10783550e+00,\n",
              "       -1.87047846e+00, -1.57557590e+00, -2.18300619e-01, -2.12766766e+00,\n",
              "       -1.87807522e+00, -6.87803525e-01, -2.31145346e+00, -1.56883454e+00,\n",
              "       -6.82684759e-01, -1.30863355e+00, -4.48665134e-01, -1.56525147e+00,\n",
              "       -1.90758005e+00, -3.17904445e-01, -1.64798998e+00, -1.21604829e+00,\n",
              "       -1.30929418e+00, -4.95359094e-01, -4.61382626e-01, -2.80912772e-01,\n",
              "        5.23980284e-02, -2.29545914e+00, -1.44375423e+00, -1.97235820e+00,\n",
              "       -1.77979469e+00, -1.56169581e+00, -6.58488661e-01, -1.58245636e+00,\n",
              "       -2.10246053e+00, -1.25404701e+00, -1.59249068e+00, -1.19099938e+00,\n",
              "       -1.75001833e+00, -1.83364703e+00, -6.22752450e-01, -2.33821447e-01,\n",
              "       -6.17124520e-01, -1.69865715e+00, -2.46101299e+00, -1.47865530e+00,\n",
              "       -1.61348810e+00, -1.56237978e+00, -1.56511086e+00, -1.40744230e+00,\n",
              "       -4.96083786e-02, -1.61505775e+00, -1.27712311e+00, -7.28286913e-01,\n",
              "       -1.57711132e+00, -1.59110081e+00, -1.54687581e-01, -1.71581604e+00,\n",
              "       -8.62383702e-01, -1.39387363e+00, -5.22636848e-02, -5.90374494e-01,\n",
              "       -1.98667787e+00, -2.13105201e+00, -1.30214285e+00, -1.48685741e+00,\n",
              "       -1.60501440e+00,  1.61752234e-01, -2.22265407e+00, -7.25693968e-01,\n",
              "       -3.11301833e-01, -7.83744421e-01, -1.67757778e+00, -1.49153748e+00,\n",
              "       -1.79159344e+00, -4.89776147e-01, -1.99625360e+00, -1.69242100e+00,\n",
              "       -5.14864000e-01, -1.63175591e+00, -1.66508151e+00, -1.66997243e+00,\n",
              "       -1.39147153e+00, -8.97364122e-01, -1.62542908e+00, -1.77680946e+00,\n",
              "       -6.90797070e-01, -1.45266046e+00, -6.62082808e-01, -1.62650697e+00,\n",
              "       -1.62505218e+00,  1.13240893e-01, -1.37600230e+00, -1.94044036e-02,\n",
              "       -1.91894143e+00, -1.89253293e+00, -1.32204393e+00, -2.26960938e+00,\n",
              "       -4.28791956e-01, -1.73428831e+00, -1.64706135e+00,  5.40910154e-02,\n",
              "       -1.27714527e+00, -2.53442137e-01, -1.08984223e-01, -1.64968110e+00,\n",
              "       -1.68798034e+00, -8.19803088e-03, -2.22162685e+00, -1.70249827e+00,\n",
              "       -1.59155804e+00, -1.00647732e+00, -2.11916788e+00, -1.97185862e+00,\n",
              "       -1.45857150e+00, -4.97783082e-01, -4.52611223e-01,  8.31926058e-02,\n",
              "       -2.16829431e+00, -4.59438472e-01, -1.48001083e+00,  7.16018962e-03,\n",
              "       -1.70638273e+00, -1.96533669e+00, -1.50778542e+00, -1.97718923e+00,\n",
              "       -6.04890593e-01, -1.50086999e+00, -1.39839166e+00, -1.69767835e+00,\n",
              "       -1.95444198e+00, -1.61894120e+00, -3.45443091e-01,  1.07385290e-01,\n",
              "        1.53379593e-01, -1.53264337e+00, -4.57186022e-01, -2.01957925e+00,\n",
              "       -1.44824069e-01, -9.42815275e-01, -1.41680839e+00, -1.65479813e+00,\n",
              "       -4.08856373e-01, -1.81074039e+00, -6.15815440e-01, -1.99237739e+00,\n",
              "       -4.57840114e-01, -2.35362953e-01, -1.42505759e+00, -1.27236918e+00,\n",
              "       -1.60027376e+00, -1.83846572e+00, -1.59314929e+00, -2.03190780e+00,\n",
              "       -1.39465405e+00, -7.24314654e-01, -1.61859058e+00, -1.01258957e+00,\n",
              "       -1.85794296e-01, -1.07461858e+00, -1.55885660e+00, -1.48151711e+00,\n",
              "       -1.72566906e-01, -1.55121331e+00, -5.23675949e-02, -1.56200471e+00,\n",
              "       -2.94202558e-01, -1.44805781e+00, -1.46129354e+00, -7.65480093e-01,\n",
              "       -1.47595509e+00, -2.26362304e+00, -1.69252365e+00, -2.09212516e+00,\n",
              "       -1.68741265e+00, -3.47291998e-01, -7.00775325e-01, -2.25820007e-01,\n",
              "       -5.57750188e-01, -1.71286030e+00, -1.12575992e-01, -1.68650706e+00,\n",
              "       -1.73844057e+00,  3.58102966e-02, -1.86079208e+00, -1.16659367e+00,\n",
              "       -1.71424770e+00, -1.06840345e+00, -1.87871526e+00, -7.13303968e-01,\n",
              "       -1.62575677e+00, -1.24454352e+00, -6.35400861e-01,  2.94817827e-02,\n",
              "       -1.14980422e-01, -3.30578960e+00, -1.50943434e+00, -1.78859105e+00,\n",
              "        9.26239681e-02, -8.62610378e-01, -1.34137014e+00, -1.90211325e+00,\n",
              "       -7.75664699e-01, -1.68913990e+00, -1.71046294e+00, -1.67056239e+00,\n",
              "       -1.62991371e+00, -1.71303497e+00, -7.38866731e-02, -1.48801233e+00,\n",
              "       -1.76239765e+00, -4.02334923e-01, -1.58513694e+00, -1.49105628e+00,\n",
              "       -3.95031702e-01, -8.69547604e-01, -1.47975013e+00, -1.89669042e+00,\n",
              "       -1.55890528e+00, -2.28447878e+00, -1.46528815e+00, -1.61854308e+00,\n",
              "       -1.87121999e+00, -2.27244769e+00, -4.85204837e-01, -1.38168491e+00,\n",
              "       -8.36314044e-02, -1.48032678e+00, -1.53263116e+00, -5.15023205e-01,\n",
              "       -1.54173605e+00, -2.22007547e+00, -2.17510890e+00, -2.20102747e+00,\n",
              "       -8.41070638e-01, -1.65015478e+00, -1.98793489e+00, -1.47562520e+00,\n",
              "       -7.28561319e-01, -1.62273254e+00, -1.61514086e+00, -1.61439354e+00,\n",
              "       -1.60555301e+00, -2.27118438e+00, -1.19167858e+00, -1.48314873e+00,\n",
              "       -1.49992680e+00, -1.56013802e+00, -1.94888918e+00, -1.80880533e+00,\n",
              "       -1.71345188e+00, -2.13371257e+00, -2.16853960e-01, -1.62275426e+00,\n",
              "       -1.50547475e+00, -1.43884739e+00, -1.74290208e+00, -1.93867761e-01,\n",
              "       -6.14435150e-01, -2.93648237e-01, -1.19770321e+00, -1.09481184e-01,\n",
              "       -2.07089296e+00, -1.55073907e+00,  6.33507666e-02, -1.72011953e+00,\n",
              "       -1.95396344e+00, -1.89593585e+00, -1.89474671e+00, -1.33828797e-01,\n",
              "       -1.83318698e+00, -1.84434533e+00, -2.27704002e-01, -2.05510922e+00,\n",
              "       -1.83628521e+00, -1.44598208e+00, -1.34348140e+00, -1.11920280e+00,\n",
              "       -3.15333725e-01, -1.34578898e+00, -6.45532716e-01, -1.46338929e+00,\n",
              "       -1.90932195e+00, -1.53982560e+00, -1.52836059e+00, -1.52588188e+00,\n",
              "        6.83233335e-02, -1.14051886e-01, -1.89632822e+00, -1.74329370e+00,\n",
              "       -1.64066503e+00, -1.50632563e+00, -1.25765042e+00, -1.76014419e+00,\n",
              "       -1.70774869e+00, -2.23532780e+00, -1.17109711e+00, -1.60666599e+00,\n",
              "        1.18221313e-01, -1.35994558e+00, -1.59181274e+00, -1.59131629e+00,\n",
              "       -2.47167052e+00, -1.08196317e+00, -4.67307163e-01, -8.72623419e-01,\n",
              "       -1.59827513e+00, -2.04891831e+00, -2.13148466e-01, -1.74131768e+00,\n",
              "       -3.27533233e-01, -1.32817730e-01, -1.42875882e+00, -1.68682498e+00,\n",
              "       -2.25504145e+00, -5.76340010e-01, -1.87643267e+00, -1.53779923e+00,\n",
              "       -2.16744289e+00, -1.71347962e+00, -1.69841615e+00, -1.71936583e+00,\n",
              "       -1.24355265e-01, -1.75572156e+00, -1.75717765e+00, -4.91602159e-01,\n",
              "       -1.70232898e-01, -1.42568980e+00, -1.53631521e+00, -2.13536484e+00,\n",
              "        9.96796604e-02, -1.48110900e-01, -1.60258687e+00, -1.53225810e+00,\n",
              "       -7.44530863e-01, -1.70910078e+00, -2.02883066e+00, -1.29386105e+00,\n",
              "       -1.04709222e+00, -1.33450885e+00, -1.57267496e+00, -4.01422038e-01,\n",
              "       -1.78483292e-01, -4.30985047e-01, -1.67901842e+00, -1.88118619e+00,\n",
              "       -1.39293376e-01, -1.74017319e+00, -2.03092413e+00, -6.88951481e-01,\n",
              "       -1.49886635e+00, -1.84186997e+00, -2.04501491e+00, -1.59342246e+00,\n",
              "       -1.29358492e+00, -1.34775489e+00, -1.55452188e+00, -1.80747384e+00,\n",
              "       -1.73680578e+00, -2.25201013e+00, -1.35119735e+00, -1.02086190e+00,\n",
              "       -2.20402242e+00, -4.99798215e-01, -2.46463438e-01, -8.34755799e-02,\n",
              "       -1.69215914e+00, -1.36721839e+00, -1.79977477e+00, -1.44512807e+00,\n",
              "       -9.95030379e-01, -1.97795395e-01, -1.75188848e+00, -1.49896621e+00,\n",
              "       -6.60886479e-01, -1.51243834e+00, -1.43561343e+00, -2.21950830e+00,\n",
              "       -1.79965455e+00, -1.08460556e+00, -1.74664410e+00, -6.32778108e-01,\n",
              "       -1.62461031e-01, -1.72334065e+00, -1.50853643e+00, -1.54234278e+00,\n",
              "       -3.11870517e+00, -1.71242949e+00,  1.26900606e-01, -1.44842404e+00,\n",
              "       -6.81215533e-03, -1.51841964e+00, -8.17054398e-01, -2.82867057e+00,\n",
              "       -5.67519223e-01, -1.59481108e+00, -3.68329812e-01, -2.22262698e+00,\n",
              "       -1.50386070e+00, -1.44291153e+00, -8.27572554e-01, -1.54353754e+00,\n",
              "       -1.65352185e+00, -6.42639302e-01, -5.67928825e-01, -1.58715649e+00,\n",
              "       -1.45359929e+00, -1.61049248e+00, -1.33902988e+00, -1.79157082e+00,\n",
              "       -9.00660521e-01, -1.09960259e-01, -7.66821014e-01, -2.26711749e+00,\n",
              "       -2.35388427e-01, -1.61684042e+00, -2.66278128e-01, -1.80344045e+00,\n",
              "       -1.59798356e+00, -1.59428509e+00, -2.86052541e-01, -1.60841323e+00,\n",
              "       -1.59346914e+00, -2.29311040e+00, -2.19993473e+00, -4.20847490e-01,\n",
              "        8.44309468e-02, -1.58120445e+00, -1.13068901e+00, -2.56581819e-01,\n",
              "       -3.53339031e-02, -3.55670349e-01, -1.54360506e+00, -8.87512285e-01,\n",
              "       -1.31632338e+00, -1.62150549e+00, -1.65206266e+00, -1.66057204e+00,\n",
              "       -2.23180091e+00, -1.78071112e+00, -6.88187185e-01, -2.19351454e+00,\n",
              "       -9.81240872e-02, -2.82027089e-01, -7.28708453e-01, -6.85241463e-02,\n",
              "       -1.66217373e+00, -7.82520467e-01, -2.83939248e-01, -1.33760967e+00,\n",
              "       -1.50409720e+00, -3.42344315e-01, -1.45793518e+00, -1.04107031e+00,\n",
              "       -1.42360843e+00, -1.78815444e+00, -1.56876891e+00, -1.81380997e+00,\n",
              "       -1.77879571e+00, -1.69897490e+00, -1.74957666e-01, -1.96891124e+00,\n",
              "       -1.44630973e+00, -1.81952175e+00, -1.68485395e+00, -9.03857175e-01,\n",
              "       -1.42444426e+00, -2.12361032e+00, -4.12254943e-01, -1.82529068e+00,\n",
              "       -9.49611958e-01, -4.98982347e-01, -1.73517793e+00, -1.66027493e+00,\n",
              "       -1.05820670e+00, -1.52999826e+00, -2.01158979e+00, -1.55406900e+00,\n",
              "       -2.18671270e-01, -1.13348366e+00, -1.80876907e+00,  1.13851917e-01,\n",
              "       -6.20205693e-01, -1.16515928e-01, -1.39916531e+00, -2.25861551e+00,\n",
              "       -1.22118709e+00, -1.47336428e+00, -8.08803846e-01, -1.70925177e+00,\n",
              "       -4.54736676e-02, -1.73289025e-01, -1.44067942e+00, -6.60285075e-01,\n",
              "       -1.76171212e+00, -2.31927909e-01, -1.72484248e+00, -1.70407934e+00,\n",
              "       -1.74942820e-01, -1.45508295e+00, -1.43169470e+00, -2.08416947e+00,\n",
              "       -5.93884772e-01, -1.91325236e+00, -3.39839758e-01, -2.11200821e+00,\n",
              "       -3.35903843e-01, -1.73904365e+00, -7.50808831e-01, -1.62920989e+00,\n",
              "       -1.81620728e+00, -1.69465785e+00, -1.87208828e+00, -1.34236652e+00,\n",
              "       -1.40779707e+00, -6.31236063e-01, -1.40526115e+00, -1.58091797e+00,\n",
              "       -1.59315947e+00, -1.45985818e+00, -1.82443781e+00, -3.39292141e-01,\n",
              "       -1.79398775e+00, -1.79234386e+00, -2.15893402e+00, -1.63164211e+00,\n",
              "       -1.75825291e+00, -1.78074092e+00, -1.64102537e+00, -1.47759965e+00,\n",
              "       -6.83509885e-01, -8.17438325e-01, -3.50807557e-01, -1.45294635e+00,\n",
              "        2.53990287e-02, -1.49640059e+00, -1.59457908e+00, -2.17904182e+00,\n",
              "       -4.69267797e-02, -2.16074370e+00, -3.41497195e-01, -1.59752667e+00,\n",
              "       -1.61391713e+00, -4.14625457e-01, -2.09492135e+00, -1.73307953e+00,\n",
              "       -2.15613642e+00, -2.08686614e+00, -1.86423957e+00, -5.87747605e-01,\n",
              "       -1.30136187e+00, -3.51791096e-01, -1.52407426e+00, -1.69751620e+00,\n",
              "       -1.65581136e+00, -1.56244337e+00, -2.06758265e+00, -4.93699727e-01,\n",
              "       -1.73924999e+00, -1.63410848e+00, -2.17636828e+00, -1.51006803e+00,\n",
              "       -1.60351759e+00, -1.42211846e+00, -6.41998779e-01, -1.50706956e+00,\n",
              "       -1.61159280e+00, -5.60814150e-01, -2.21135839e+00, -7.70196489e-01,\n",
              "       -1.54264656e+00, -1.48465911e+00, -1.58239801e+00, -1.41678478e+00,\n",
              "       -2.24806213e+00, -1.60838352e+00, -5.48680091e-01, -1.97081244e+00,\n",
              "       -1.27862899e+00, -8.17517525e-01, -4.43675387e-01, -1.94342666e+00,\n",
              "       -5.62989448e-01, -1.80545830e+00, -1.66610546e+00, -1.54281833e+00,\n",
              "       -3.03653619e-01, -7.93960280e-01, -1.83570288e-01, -1.87119593e+00,\n",
              "        1.41726564e-01, -1.53248871e+00, -1.74248938e+00, -1.77386820e+00,\n",
              "       -1.42369466e+00, -6.88660068e-01, -2.69479842e-01, -1.71242573e+00,\n",
              "       -1.18494387e+00, -1.31268205e+00, -1.59010258e+00, -1.45107504e+00,\n",
              "       -1.64375873e+00, -1.59083992e+00, -1.50445305e+00,  4.98117503e-02,\n",
              "       -2.15871424e+00, -1.00496288e+00, -2.02978054e+00, -1.63265977e+00,\n",
              "       -2.33696550e+00, -8.64103734e-01, -1.82101174e+00, -1.61084216e+00,\n",
              "       -1.53266524e+00, -2.23004873e+00, -1.73855115e+00, -4.35110933e-01,\n",
              "       -1.71629779e+00, -2.21603786e+00, -1.94791396e+00, -1.62923354e+00,\n",
              "       -1.38085914e+00, -4.32886973e-01, -2.56918640e-01, -1.71668082e+00,\n",
              "       -2.87455143e-01, -1.99160136e+00, -1.50486916e+00, -1.54522916e+00,\n",
              "       -1.66487623e+00, -1.36178089e+00, -1.35430432e+00, -1.75253345e+00,\n",
              "       -1.52172915e+00, -2.30908102e+00, -4.01340630e-01, -2.54811145e+00,\n",
              "       -4.26933965e-01, -1.73185686e+00, -8.14011254e-01, -5.91507395e-01,\n",
              "       -5.55980733e-01, -1.67093814e+00, -1.53377410e+00, -4.35848178e-01,\n",
              "       -1.54983000e+00, -1.74136115e+00, -5.37092854e-01, -1.70566346e+00,\n",
              "       -1.99612054e+00, -1.33727024e+00, -8.35187872e-02, -2.19169190e+00,\n",
              "       -1.80703421e+00, -1.46405076e+00, -1.49502011e+00, -2.21781468e+00,\n",
              "       -1.94686797e+00, -7.68871310e-01, -1.65655874e+00, -1.51142012e+00,\n",
              "       -1.32760909e+00, -1.29481119e-02, -1.48662369e+00, -8.46467934e-01,\n",
              "       -1.53899221e+00, -1.70641298e+00, -2.20390059e+00,  4.99859078e-03,\n",
              "       -1.47982012e+00, -3.15664281e-01, -1.59996543e+00, -1.57399639e+00,\n",
              "       -1.66133324e+00, -2.15865738e+00, -1.55599890e+00, -1.65916828e+00,\n",
              "       -5.75199687e+00, -9.90181050e-01, -2.23219240e-02, -9.45293793e-01,\n",
              "       -1.80375001e+00, -1.71790866e+00, -1.24321343e+00, -1.31696416e+00,\n",
              "       -1.42224858e+00, -1.28455637e+00, -2.46695641e-01, -1.57240746e+00,\n",
              "       -1.68363439e+00, -7.13599958e-01, -1.52800092e+00, -1.67514853e+00,\n",
              "       -1.67249659e+00, -3.90723078e-01, -4.07926942e+00, -1.70946604e+00])"
            ]
          },
          "metadata": {},
          "execution_count": 12
        }
      ]
    },
    {
      "cell_type": "markdown",
      "source": [
        "그러나 실제로는 특성이나 클러스터가 많거나 샘플이 적을 수 있다. 이때는 EM이 최적의 솔루션으로 수렴하기 어렵다. 따라서 알고리즘이 학습할 파라미터 개수를 제한해야한다. covariance_type 매개변수에 다음 값을 설정해보자.\n",
        "- spherical\n",
        "- diag\n",
        "- tied\n",
        "또한, 가우시안 혼합 모델은 이상치 탐지에도 사용할 수 있다.\n",
        "\n",
        "### 9.2.1 가우시안 혼합을 사용한 이상치 탐지\n",
        "이상치 탐지는 보통과 많이 다른 샘플을 감지하는 작업이다. 다른 모델을 훈련하기 전에 데이터셋에서 이사치를 제거하는 데 사용하기도 한다.\n",
        "\n",
        "가우시안 혼합 모델에서, 밀도가 낮은 지역에 있는 모든 샘플은 이상치로 간주된다. 이렇게 하려면 사용할 밀도 임곗값을 정해야한다. 임곗값이 너무 작거나 크면, 정밀도/재현율 트레이드 오프가 발생할 수 있다.\n",
        "\n",
        "다음은 4$를 밀도 임곗값으로 사용하여 이상치를 구분하는 방법이다."
      ],
      "metadata": {
        "id": "9tPMHWtvxLwS"
      }
    },
    {
      "cell_type": "code",
      "source": [
        "import numpy as np\n",
        "\n",
        "densities = gm.score_samples(X)\n",
        "density_threshold = np.percentile(densities, 4)\n",
        "anomalies = X[densities < density_threshold]"
      ],
      "metadata": {
        "id": "4csvVyjVo3R1"
      },
      "execution_count": 13,
      "outputs": []
    },
    {
      "cell_type": "markdown",
      "source": [
        "이와 비슷한 작업으로는 특이치 탐지가 있다. 이 알고리즘은 이상치로 오염되지 않은 깨끗한 데이터셋에서 훈련해야한다.\n",
        "\n",
        "### 9.2.2 클러스터 개수 선택하기\n",
        "가우시안 혼합에서는 BIC나 AIC와 같은 이론적 정보 기준을 최소화하는 모델을 찾아 클러스터 개수를 선택한다.\n",
        "\n",
        "AIC와 BIC는 모두 학습할 파라미터가 많은(클러스터가 많은) 모델에게 벌칙을 가하고 데이터에 잘 학습하는 모델에게 보상을 더한다.\n",
        "\n",
        "*가능도 함수*\n",
        "\n",
        "확률과 가능도는 비슷하지만 다르다. 확률 모델이 주어지면 '확률'은 미래 출력 x가 얼마나 그럴듯한지 설명하고, '가능도'는 출력 x를 알고 있을 때 특정 파라미터 값이 얼마나 그럴듯한지 설명한다. 간단히 말해, PDF는 x의 함수이고, 가능도 함수는 theta의 함수이다.\n",
        "\n",
        "bic() aic()를 사용해 BIC와 AIC를 계산한다."
      ],
      "metadata": {
        "id": "OHlNASbJ3DCV"
      }
    },
    {
      "cell_type": "code",
      "source": [
        "gm.bic(X)"
      ],
      "metadata": {
        "colab": {
          "base_uri": "https://localhost:8080/"
        },
        "id": "V324F9Bwna3W",
        "outputId": "2e34f177-3721-496e-e5ee-12b124066374"
      },
      "execution_count": 14,
      "outputs": [
        {
          "output_type": "execute_result",
          "data": {
            "text/plain": [
              "np.float64(2739.375360080258)"
            ]
          },
          "metadata": {},
          "execution_count": 14
        }
      ]
    },
    {
      "cell_type": "code",
      "source": [
        "gm.aic(X)"
      ],
      "metadata": {
        "colab": {
          "base_uri": "https://localhost:8080/"
        },
        "id": "XK7SVjK0o_dx",
        "outputId": "6deb1292-5dc1-40e5-e281-5f0dc8ee4fb2"
      },
      "execution_count": 15,
      "outputs": [
        {
          "output_type": "execute_result",
          "data": {
            "text/plain": [
              "np.float64(2655.9435203375615)"
            ]
          },
          "metadata": {},
          "execution_count": 15
        }
      ]
    },
    {
      "cell_type": "markdown",
      "source": [
        "k=3일 때, AIC와 BIC가 모두 가장 작다. 또는, covariance_type 매개변수에 대해 최선의 값을 탐색할 수도 있다.\n",
        "\n",
        "### 9.2.3 베이즈 가우시안 혼합 모델\n",
        "최적의 클러스터 개수를 수동으로 찾지 않고 불필요한 클러스터의 가중치를 0으로 만드는 BaysianGaussianMixture 클래스를 사용할 수 있다. 이 알고리즘은 클러스터 개수 n_components를 최적의 클러스터 개수보다 크다고 맏을 만한 값으로 지정해주면, 자동으로 불필요한 클러스터를 제거한다."
      ],
      "metadata": {
        "id": "2jjXc532pESy"
      }
    },
    {
      "cell_type": "code",
      "source": [
        "from sklearn.mixture import BayesianGaussianMixture\n",
        "bgm = BayesianGaussianMixture(n_components=10, n_init=10)\n",
        "bgm.fit(X)\n",
        "np.round(bgm.weights_, 2)"
      ],
      "metadata": {
        "colab": {
          "base_uri": "https://localhost:8080/"
        },
        "id": "xw4fpdf0pB9x",
        "outputId": "700a5db5-e1b6-46d0-f684-0feb3c53d871"
      },
      "execution_count": 16,
      "outputs": [
        {
          "output_type": "stream",
          "name": "stderr",
          "text": [
            "/usr/local/lib/python3.11/dist-packages/sklearn/mixture/_base.py:269: ConvergenceWarning: Best performing initialization did not converge. Try different init parameters, or increase max_iter, tol, or check for degenerate data.\n",
            "  warnings.warn(\n"
          ]
        },
        {
          "output_type": "execute_result",
          "data": {
            "text/plain": [
              "array([0.16, 0.11, 0.21, 0.15, 0.11, 0.14, 0.12, 0.  , 0.  , 0.  ])"
            ]
          },
          "metadata": {},
          "execution_count": 16
        }
      ]
    },
    {
      "cell_type": "markdown",
      "source": [
        "알고리즘이 자동으로 7개의 클러스터가 필요하다는 것을 감지했다.\n",
        "\n",
        "베타 분포는 고정 범위 안에 높인 값을 가진 확률 변수를 모델링할 때 자주 사용된다.\n",
        "\n",
        "### 9.2.4 이상치 탐지와 특이치 탐지를 위한 다른 알고리즘\n",
        "사이킷런에는 이상치 탐지와 특이치 탐지 전용으로 사용할 수 있는 몇가지 알고리즘이 구현되어 있다.\n",
        "- PCA\n",
        "- Fast_MCD\n",
        "- 아이솔레이션 포레스트\n",
        "- LOF\n",
        "- one-class SVM\n"
      ],
      "metadata": {
        "id": "WxTkkRLKF9FS"
      }
    }
  ]
}